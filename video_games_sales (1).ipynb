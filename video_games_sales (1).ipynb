{
 "cells": [
  {
   "cell_type": "markdown",
   "metadata": {
    "id": "ScQlmsuIS26s"
   },
   "source": [
    "# **VIDEO GAME SALES ANALYSIS**"
   ]
  },
  {
   "cell_type": "markdown",
   "metadata": {
    "id": "-mGL7cGkxU2q"
   },
   "source": [
    "\n",
    "Dikerjakan oleh:\n",
    "*   18218048 - Muhamad Ihza Faida Akbar\n",
    "*   13517022 - Arnold Pangihutan Sianturi\n",
    "*   13517111 - Paulus Haiktwo Dimpan Siahaan\n"
   ]
  },
  {
   "cell_type": "markdown",
   "metadata": {
    "id": "nxpmJ2tga9uc"
   },
   "source": [
    "Industri *video game* merupakan sektor ekonomi yang terlibat dalam pengembangan, pemasaran, dan monetisasi *video games*. Pada tahun 2018, *video games* meraih penjualan hingga US$134.9 miliar dalam setahun di seluruh dunia. *Video games* sendiri diproduksi oleh berbagai produser *video games* dalam platform yang beragam pula, mulai dari PC, Wii, PS4, dan lain sebagainya. \n",
    " \n",
    "Saat ini, industri *video game* memiliki dampak yang besar bagi perekonomian melalui penjualan sistem dan permainan. Contohnya adalah Call of Duty: Black Ops, yang meraih lebih dari US$650 juta dalam 5 hari pertama penjualannya. Banyak perusahaan yang diuntungkan dalam bisnis *video games*, baik secara *regional* maupun secara global."
   ]
  },
  {
   "cell_type": "markdown",
   "metadata": {
    "id": "fkfgtXi6gmEV"
   },
   "source": [
    "## *Business Understanding*\n",
    "\n"
   ]
  },
  {
   "cell_type": "markdown",
   "metadata": {
    "id": "9pTmfuNy8_wh"
   },
   "source": [
    "*Problem:* \n",
    "\n",
    "Publisher games perlu untuk memprediksi penjualan dari game yang akan ia pasarkan untuk menentukan perencanaan pemasaran.\n",
    "\n",
    "*Pertanyaan:* \n",
    "\n",
    "Bagaimana mengoptimasi penjualan suatu game dengan melihat kecenderungan berbagai aspek seperti platform, genre, serta daerah pemasaran.\n",
    "\n",
    "*Measurables Outcome:*\n",
    "- Pengurangan biaya pemasaran\n",
    "- Peningkatan penjualan\n",
    "\n",
    "*Permasalahan Analitik:*\n",
    "\n",
    "Prediksi penjualan games berdasarkan platform, genre, dan tahun."
   ]
  },
  {
   "cell_type": "markdown",
   "metadata": {
    "id": "TiH_UK2lUfSf"
   },
   "source": [
    "**Rincian Dataset**\n",
    "\n",
    "*Fields* pada dataset terdiri dari:\n",
    " \n",
    "*   Name - Nama game\n",
    "*   Platform - Platform dari game (PC, PS4, Nintendo, dll.)\n",
    "*   Year - Tahun game dikeluarkan\n",
    "*   Genre - Genre/tema game\n",
    "*   Publisher - Penerbit game\n",
    "*   NA_Sales - Penjualan di Amerika Utara (*North America*, dalam juta)\n",
    "*   EU_Sales - Penjualan di Eropa (dalam juta)\n",
    "*   JP_Sales - Penjualan di Jepang (dalam juta)\n",
    "*   Other_Sales - Penjualan di seluruh dunia (dalam juta)\n",
    "*   Global_Sales - Total penjualan seluruh dunia\n",
    " \n",
    "Dataset ini mengandung daftar penjualan *video games* yang penjualannya sebanyak lebih dari 100,000 salinan. Dataset ini dibuat oleh vgchartz.com (dan diambil dari Kaggle)"
   ]
  },
  {
   "cell_type": "markdown",
   "metadata": {
    "id": "MHpQw-pOVomo"
   },
   "source": [
    "\n",
    "\n",
    "\n",
    "## *Data Acquisition*"
   ]
  },
  {
   "cell_type": "markdown",
   "metadata": {
    "id": "PJm69lT3UUf9"
   },
   "source": [
    "Segmen ini berisi akuisisi dataset yang memiliki format .xls dari direktori untuk dilakukan analisis lebih lanjut"
   ]
  },
  {
   "cell_type": "markdown",
   "metadata": {
    "id": "xoEPqAR-kc8U"
   },
   "source": [
    "**Library yang Digunakan**"
   ]
  },
  {
   "cell_type": "code",
   "execution_count": 93,
   "metadata": {
    "id": "hOgWOubEU6O-"
   },
   "outputs": [],
   "source": [
    "import pandas as pd\n",
    "import seaborn as sns\n",
    "import numpy as np\n",
    "import matplotlib.pyplot as plt"
   ]
  },
  {
   "cell_type": "markdown",
   "metadata": {
    "id": "C5ae3CgTkkoS"
   },
   "source": [
    "Pandas digunakan dalam pemrosesan data dalam bentuk *dataframe*\n",
    "\n",
    "Seaborn digunakan untuk visualisasi data\n",
    "\n",
    "Numpy digunakan dalam pemrosesan data dalam array dan matriks\n",
    "\n",
    "Matplotlib digunakan untuk visualisasi data"
   ]
  },
  {
   "cell_type": "markdown",
   "metadata": {
    "id": "U5RB0bnZk9uX"
   },
   "source": [
    "**Inisialisasi Pembacaan Data**"
   ]
  },
  {
   "cell_type": "code",
   "execution_count": 4,
   "metadata": {
    "colab": {
     "base_uri": "https://localhost:8080/"
    },
    "id": "0m5bAOIqUXWi",
    "outputId": "27cb696d-ac93-41e2-f559-8d90656c9cd3"
   },
   "outputs": [
    {
     "data": {
      "text/html": [
       "<div>\n",
       "<style scoped>\n",
       "    .dataframe tbody tr th:only-of-type {\n",
       "        vertical-align: middle;\n",
       "    }\n",
       "\n",
       "    .dataframe tbody tr th {\n",
       "        vertical-align: top;\n",
       "    }\n",
       "\n",
       "    .dataframe thead th {\n",
       "        text-align: right;\n",
       "    }\n",
       "</style>\n",
       "<table border=\"1\" class=\"dataframe\">\n",
       "  <thead>\n",
       "    <tr style=\"text-align: right;\">\n",
       "      <th></th>\n",
       "      <th>Rank</th>\n",
       "      <th>Name</th>\n",
       "      <th>Platform</th>\n",
       "      <th>Year</th>\n",
       "      <th>Genre</th>\n",
       "      <th>Publisher</th>\n",
       "      <th>NA_Sales</th>\n",
       "      <th>EU_Sales</th>\n",
       "      <th>JP_Sales</th>\n",
       "      <th>Other_Sales</th>\n",
       "      <th>Global_Sales</th>\n",
       "    </tr>\n",
       "  </thead>\n",
       "  <tbody>\n",
       "    <tr>\n",
       "      <td>0</td>\n",
       "      <td>1</td>\n",
       "      <td>Wii Sports</td>\n",
       "      <td>Wii</td>\n",
       "      <td>2006.0</td>\n",
       "      <td>Sports</td>\n",
       "      <td>Nintendo</td>\n",
       "      <td>41.49</td>\n",
       "      <td>29.02</td>\n",
       "      <td>3.77</td>\n",
       "      <td>8.46</td>\n",
       "      <td>82.74</td>\n",
       "    </tr>\n",
       "    <tr>\n",
       "      <td>1</td>\n",
       "      <td>2</td>\n",
       "      <td>Super Mario Bros.</td>\n",
       "      <td>NES</td>\n",
       "      <td>1985.0</td>\n",
       "      <td>Platform</td>\n",
       "      <td>Nintendo</td>\n",
       "      <td>29.08</td>\n",
       "      <td>3.58</td>\n",
       "      <td>6.81</td>\n",
       "      <td>0.77</td>\n",
       "      <td>40.24</td>\n",
       "    </tr>\n",
       "    <tr>\n",
       "      <td>2</td>\n",
       "      <td>3</td>\n",
       "      <td>Mario Kart Wii</td>\n",
       "      <td>Wii</td>\n",
       "      <td>2008.0</td>\n",
       "      <td>Racing</td>\n",
       "      <td>Nintendo</td>\n",
       "      <td>15.85</td>\n",
       "      <td>12.88</td>\n",
       "      <td>3.79</td>\n",
       "      <td>3.31</td>\n",
       "      <td>35.82</td>\n",
       "    </tr>\n",
       "    <tr>\n",
       "      <td>3</td>\n",
       "      <td>4</td>\n",
       "      <td>Wii Sports Resort</td>\n",
       "      <td>Wii</td>\n",
       "      <td>2009.0</td>\n",
       "      <td>Sports</td>\n",
       "      <td>Nintendo</td>\n",
       "      <td>15.75</td>\n",
       "      <td>11.01</td>\n",
       "      <td>3.28</td>\n",
       "      <td>2.96</td>\n",
       "      <td>33.00</td>\n",
       "    </tr>\n",
       "    <tr>\n",
       "      <td>4</td>\n",
       "      <td>5</td>\n",
       "      <td>Pokemon Red/Pokemon Blue</td>\n",
       "      <td>GB</td>\n",
       "      <td>1996.0</td>\n",
       "      <td>Role-Playing</td>\n",
       "      <td>Nintendo</td>\n",
       "      <td>11.27</td>\n",
       "      <td>8.89</td>\n",
       "      <td>10.22</td>\n",
       "      <td>1.00</td>\n",
       "      <td>31.37</td>\n",
       "    </tr>\n",
       "    <tr>\n",
       "      <td>5</td>\n",
       "      <td>6</td>\n",
       "      <td>Tetris</td>\n",
       "      <td>GB</td>\n",
       "      <td>1989.0</td>\n",
       "      <td>Puzzle</td>\n",
       "      <td>Nintendo</td>\n",
       "      <td>23.20</td>\n",
       "      <td>2.26</td>\n",
       "      <td>4.22</td>\n",
       "      <td>0.58</td>\n",
       "      <td>30.26</td>\n",
       "    </tr>\n",
       "    <tr>\n",
       "      <td>6</td>\n",
       "      <td>7</td>\n",
       "      <td>New Super Mario Bros.</td>\n",
       "      <td>DS</td>\n",
       "      <td>2006.0</td>\n",
       "      <td>Platform</td>\n",
       "      <td>Nintendo</td>\n",
       "      <td>11.38</td>\n",
       "      <td>9.23</td>\n",
       "      <td>6.50</td>\n",
       "      <td>2.90</td>\n",
       "      <td>30.01</td>\n",
       "    </tr>\n",
       "    <tr>\n",
       "      <td>7</td>\n",
       "      <td>8</td>\n",
       "      <td>Wii Play</td>\n",
       "      <td>Wii</td>\n",
       "      <td>2006.0</td>\n",
       "      <td>Misc</td>\n",
       "      <td>Nintendo</td>\n",
       "      <td>14.03</td>\n",
       "      <td>9.20</td>\n",
       "      <td>2.93</td>\n",
       "      <td>2.85</td>\n",
       "      <td>29.02</td>\n",
       "    </tr>\n",
       "    <tr>\n",
       "      <td>8</td>\n",
       "      <td>9</td>\n",
       "      <td>New Super Mario Bros. Wii</td>\n",
       "      <td>Wii</td>\n",
       "      <td>2009.0</td>\n",
       "      <td>Platform</td>\n",
       "      <td>Nintendo</td>\n",
       "      <td>14.59</td>\n",
       "      <td>7.06</td>\n",
       "      <td>4.70</td>\n",
       "      <td>2.26</td>\n",
       "      <td>28.62</td>\n",
       "    </tr>\n",
       "    <tr>\n",
       "      <td>9</td>\n",
       "      <td>10</td>\n",
       "      <td>Duck Hunt</td>\n",
       "      <td>NES</td>\n",
       "      <td>1984.0</td>\n",
       "      <td>Shooter</td>\n",
       "      <td>Nintendo</td>\n",
       "      <td>26.93</td>\n",
       "      <td>0.63</td>\n",
       "      <td>0.28</td>\n",
       "      <td>0.47</td>\n",
       "      <td>28.31</td>\n",
       "    </tr>\n",
       "    <tr>\n",
       "      <td>10</td>\n",
       "      <td>11</td>\n",
       "      <td>Nintendogs</td>\n",
       "      <td>DS</td>\n",
       "      <td>2005.0</td>\n",
       "      <td>Simulation</td>\n",
       "      <td>Nintendo</td>\n",
       "      <td>9.07</td>\n",
       "      <td>11.00</td>\n",
       "      <td>1.93</td>\n",
       "      <td>2.75</td>\n",
       "      <td>24.76</td>\n",
       "    </tr>\n",
       "    <tr>\n",
       "      <td>11</td>\n",
       "      <td>12</td>\n",
       "      <td>Mario Kart DS</td>\n",
       "      <td>DS</td>\n",
       "      <td>2005.0</td>\n",
       "      <td>Racing</td>\n",
       "      <td>Nintendo</td>\n",
       "      <td>9.81</td>\n",
       "      <td>7.57</td>\n",
       "      <td>4.13</td>\n",
       "      <td>1.92</td>\n",
       "      <td>23.42</td>\n",
       "    </tr>\n",
       "    <tr>\n",
       "      <td>12</td>\n",
       "      <td>13</td>\n",
       "      <td>Pokemon Gold/Pokemon Silver</td>\n",
       "      <td>GB</td>\n",
       "      <td>1999.0</td>\n",
       "      <td>Role-Playing</td>\n",
       "      <td>Nintendo</td>\n",
       "      <td>9.00</td>\n",
       "      <td>6.18</td>\n",
       "      <td>7.20</td>\n",
       "      <td>0.71</td>\n",
       "      <td>23.10</td>\n",
       "    </tr>\n",
       "    <tr>\n",
       "      <td>13</td>\n",
       "      <td>14</td>\n",
       "      <td>Wii Fit</td>\n",
       "      <td>Wii</td>\n",
       "      <td>2007.0</td>\n",
       "      <td>Sports</td>\n",
       "      <td>Nintendo</td>\n",
       "      <td>8.94</td>\n",
       "      <td>8.03</td>\n",
       "      <td>3.60</td>\n",
       "      <td>2.15</td>\n",
       "      <td>22.72</td>\n",
       "    </tr>\n",
       "    <tr>\n",
       "      <td>14</td>\n",
       "      <td>15</td>\n",
       "      <td>Wii Fit Plus</td>\n",
       "      <td>Wii</td>\n",
       "      <td>2009.0</td>\n",
       "      <td>Sports</td>\n",
       "      <td>Nintendo</td>\n",
       "      <td>9.09</td>\n",
       "      <td>8.59</td>\n",
       "      <td>2.53</td>\n",
       "      <td>1.79</td>\n",
       "      <td>22.00</td>\n",
       "    </tr>\n",
       "  </tbody>\n",
       "</table>\n",
       "</div>"
      ],
      "text/plain": [
       "    Rank                         Name Platform    Year         Genre  \\\n",
       "0      1                   Wii Sports      Wii  2006.0        Sports   \n",
       "1      2            Super Mario Bros.      NES  1985.0      Platform   \n",
       "2      3               Mario Kart Wii      Wii  2008.0        Racing   \n",
       "3      4            Wii Sports Resort      Wii  2009.0        Sports   \n",
       "4      5     Pokemon Red/Pokemon Blue       GB  1996.0  Role-Playing   \n",
       "5      6                       Tetris       GB  1989.0        Puzzle   \n",
       "6      7        New Super Mario Bros.       DS  2006.0      Platform   \n",
       "7      8                     Wii Play      Wii  2006.0          Misc   \n",
       "8      9    New Super Mario Bros. Wii      Wii  2009.0      Platform   \n",
       "9     10                    Duck Hunt      NES  1984.0       Shooter   \n",
       "10    11                   Nintendogs       DS  2005.0    Simulation   \n",
       "11    12                Mario Kart DS       DS  2005.0        Racing   \n",
       "12    13  Pokemon Gold/Pokemon Silver       GB  1999.0  Role-Playing   \n",
       "13    14                      Wii Fit      Wii  2007.0        Sports   \n",
       "14    15                 Wii Fit Plus      Wii  2009.0        Sports   \n",
       "\n",
       "   Publisher  NA_Sales  EU_Sales  JP_Sales  Other_Sales  Global_Sales  \n",
       "0   Nintendo     41.49     29.02      3.77         8.46         82.74  \n",
       "1   Nintendo     29.08      3.58      6.81         0.77         40.24  \n",
       "2   Nintendo     15.85     12.88      3.79         3.31         35.82  \n",
       "3   Nintendo     15.75     11.01      3.28         2.96         33.00  \n",
       "4   Nintendo     11.27      8.89     10.22         1.00         31.37  \n",
       "5   Nintendo     23.20      2.26      4.22         0.58         30.26  \n",
       "6   Nintendo     11.38      9.23      6.50         2.90         30.01  \n",
       "7   Nintendo     14.03      9.20      2.93         2.85         29.02  \n",
       "8   Nintendo     14.59      7.06      4.70         2.26         28.62  \n",
       "9   Nintendo     26.93      0.63      0.28         0.47         28.31  \n",
       "10  Nintendo      9.07     11.00      1.93         2.75         24.76  \n",
       "11  Nintendo      9.81      7.57      4.13         1.92         23.42  \n",
       "12  Nintendo      9.00      6.18      7.20         0.71         23.10  \n",
       "13  Nintendo      8.94      8.03      3.60         2.15         22.72  \n",
       "14  Nintendo      9.09      8.59      2.53         1.79         22.00  "
      ]
     },
     "execution_count": 4,
     "metadata": {},
     "output_type": "execute_result"
    }
   ],
   "source": [
    "#Pembacaan dataset dalam format csv.\n",
    "vgs_data = pd.read_csv(\"./content/vgsales.xls\")\n",
    "\n",
    "#Menampilkan 15 baris pertama menggunakan dataframe.head() method\n",
    "vgs_data.head(15)"
   ]
  },
  {
   "cell_type": "code",
   "execution_count": 5,
   "metadata": {
    "colab": {
     "base_uri": "https://localhost:8080/"
    },
    "id": "DutkSCRMQhCG",
    "outputId": "2369565f-9894-4f06-f35f-2c569f48da96"
   },
   "outputs": [
    {
     "data": {
      "text/html": [
       "<div>\n",
       "<style scoped>\n",
       "    .dataframe tbody tr th:only-of-type {\n",
       "        vertical-align: middle;\n",
       "    }\n",
       "\n",
       "    .dataframe tbody tr th {\n",
       "        vertical-align: top;\n",
       "    }\n",
       "\n",
       "    .dataframe thead th {\n",
       "        text-align: right;\n",
       "    }\n",
       "</style>\n",
       "<table border=\"1\" class=\"dataframe\">\n",
       "  <thead>\n",
       "    <tr style=\"text-align: right;\">\n",
       "      <th></th>\n",
       "      <th>Rank</th>\n",
       "      <th>Name</th>\n",
       "      <th>Platform</th>\n",
       "      <th>Year</th>\n",
       "      <th>Genre</th>\n",
       "      <th>Publisher</th>\n",
       "      <th>NA_Sales</th>\n",
       "      <th>EU_Sales</th>\n",
       "      <th>JP_Sales</th>\n",
       "      <th>Other_Sales</th>\n",
       "      <th>Global_Sales</th>\n",
       "    </tr>\n",
       "  </thead>\n",
       "  <tbody>\n",
       "    <tr>\n",
       "      <td>16588</td>\n",
       "      <td>16591</td>\n",
       "      <td>Mega Brain Boost</td>\n",
       "      <td>DS</td>\n",
       "      <td>2008.0</td>\n",
       "      <td>Puzzle</td>\n",
       "      <td>Majesco Entertainment</td>\n",
       "      <td>0.01</td>\n",
       "      <td>0.00</td>\n",
       "      <td>0.00</td>\n",
       "      <td>0.0</td>\n",
       "      <td>0.01</td>\n",
       "    </tr>\n",
       "    <tr>\n",
       "      <td>16589</td>\n",
       "      <td>16592</td>\n",
       "      <td>Chou Ezaru wa Akai Hana: Koi wa Tsuki ni Shiru...</td>\n",
       "      <td>PSV</td>\n",
       "      <td>2016.0</td>\n",
       "      <td>Action</td>\n",
       "      <td>dramatic create</td>\n",
       "      <td>0.00</td>\n",
       "      <td>0.00</td>\n",
       "      <td>0.01</td>\n",
       "      <td>0.0</td>\n",
       "      <td>0.01</td>\n",
       "    </tr>\n",
       "    <tr>\n",
       "      <td>16590</td>\n",
       "      <td>16593</td>\n",
       "      <td>Eiyuu Densetsu: Sora no Kiseki Material Collec...</td>\n",
       "      <td>PSP</td>\n",
       "      <td>2007.0</td>\n",
       "      <td>Role-Playing</td>\n",
       "      <td>Falcom Corporation</td>\n",
       "      <td>0.00</td>\n",
       "      <td>0.00</td>\n",
       "      <td>0.01</td>\n",
       "      <td>0.0</td>\n",
       "      <td>0.01</td>\n",
       "    </tr>\n",
       "    <tr>\n",
       "      <td>16591</td>\n",
       "      <td>16594</td>\n",
       "      <td>Myst IV: Revelation</td>\n",
       "      <td>PC</td>\n",
       "      <td>2004.0</td>\n",
       "      <td>Adventure</td>\n",
       "      <td>Ubisoft</td>\n",
       "      <td>0.01</td>\n",
       "      <td>0.00</td>\n",
       "      <td>0.00</td>\n",
       "      <td>0.0</td>\n",
       "      <td>0.01</td>\n",
       "    </tr>\n",
       "    <tr>\n",
       "      <td>16592</td>\n",
       "      <td>16595</td>\n",
       "      <td>Plushees</td>\n",
       "      <td>DS</td>\n",
       "      <td>2008.0</td>\n",
       "      <td>Simulation</td>\n",
       "      <td>Destineer</td>\n",
       "      <td>0.01</td>\n",
       "      <td>0.00</td>\n",
       "      <td>0.00</td>\n",
       "      <td>0.0</td>\n",
       "      <td>0.01</td>\n",
       "    </tr>\n",
       "    <tr>\n",
       "      <td>16593</td>\n",
       "      <td>16596</td>\n",
       "      <td>Woody Woodpecker in Crazy Castle 5</td>\n",
       "      <td>GBA</td>\n",
       "      <td>2002.0</td>\n",
       "      <td>Platform</td>\n",
       "      <td>Kemco</td>\n",
       "      <td>0.01</td>\n",
       "      <td>0.00</td>\n",
       "      <td>0.00</td>\n",
       "      <td>0.0</td>\n",
       "      <td>0.01</td>\n",
       "    </tr>\n",
       "    <tr>\n",
       "      <td>16594</td>\n",
       "      <td>16597</td>\n",
       "      <td>Men in Black II: Alien Escape</td>\n",
       "      <td>GC</td>\n",
       "      <td>2003.0</td>\n",
       "      <td>Shooter</td>\n",
       "      <td>Infogrames</td>\n",
       "      <td>0.01</td>\n",
       "      <td>0.00</td>\n",
       "      <td>0.00</td>\n",
       "      <td>0.0</td>\n",
       "      <td>0.01</td>\n",
       "    </tr>\n",
       "    <tr>\n",
       "      <td>16595</td>\n",
       "      <td>16598</td>\n",
       "      <td>SCORE International Baja 1000: The Official Game</td>\n",
       "      <td>PS2</td>\n",
       "      <td>2008.0</td>\n",
       "      <td>Racing</td>\n",
       "      <td>Activision</td>\n",
       "      <td>0.00</td>\n",
       "      <td>0.00</td>\n",
       "      <td>0.00</td>\n",
       "      <td>0.0</td>\n",
       "      <td>0.01</td>\n",
       "    </tr>\n",
       "    <tr>\n",
       "      <td>16596</td>\n",
       "      <td>16599</td>\n",
       "      <td>Know How 2</td>\n",
       "      <td>DS</td>\n",
       "      <td>2010.0</td>\n",
       "      <td>Puzzle</td>\n",
       "      <td>7G//AMES</td>\n",
       "      <td>0.00</td>\n",
       "      <td>0.01</td>\n",
       "      <td>0.00</td>\n",
       "      <td>0.0</td>\n",
       "      <td>0.01</td>\n",
       "    </tr>\n",
       "    <tr>\n",
       "      <td>16597</td>\n",
       "      <td>16600</td>\n",
       "      <td>Spirits &amp; Spells</td>\n",
       "      <td>GBA</td>\n",
       "      <td>2003.0</td>\n",
       "      <td>Platform</td>\n",
       "      <td>Wanadoo</td>\n",
       "      <td>0.01</td>\n",
       "      <td>0.00</td>\n",
       "      <td>0.00</td>\n",
       "      <td>0.0</td>\n",
       "      <td>0.01</td>\n",
       "    </tr>\n",
       "  </tbody>\n",
       "</table>\n",
       "</div>"
      ],
      "text/plain": [
       "        Rank                                               Name Platform  \\\n",
       "16588  16591                                   Mega Brain Boost       DS   \n",
       "16589  16592  Chou Ezaru wa Akai Hana: Koi wa Tsuki ni Shiru...      PSV   \n",
       "16590  16593  Eiyuu Densetsu: Sora no Kiseki Material Collec...      PSP   \n",
       "16591  16594                                Myst IV: Revelation       PC   \n",
       "16592  16595                                           Plushees       DS   \n",
       "16593  16596                 Woody Woodpecker in Crazy Castle 5      GBA   \n",
       "16594  16597                      Men in Black II: Alien Escape       GC   \n",
       "16595  16598   SCORE International Baja 1000: The Official Game      PS2   \n",
       "16596  16599                                         Know How 2       DS   \n",
       "16597  16600                                   Spirits & Spells      GBA   \n",
       "\n",
       "         Year         Genre              Publisher  NA_Sales  EU_Sales  \\\n",
       "16588  2008.0        Puzzle  Majesco Entertainment      0.01      0.00   \n",
       "16589  2016.0        Action        dramatic create      0.00      0.00   \n",
       "16590  2007.0  Role-Playing     Falcom Corporation      0.00      0.00   \n",
       "16591  2004.0     Adventure                Ubisoft      0.01      0.00   \n",
       "16592  2008.0    Simulation              Destineer      0.01      0.00   \n",
       "16593  2002.0      Platform                  Kemco      0.01      0.00   \n",
       "16594  2003.0       Shooter             Infogrames      0.01      0.00   \n",
       "16595  2008.0        Racing             Activision      0.00      0.00   \n",
       "16596  2010.0        Puzzle               7G//AMES      0.00      0.01   \n",
       "16597  2003.0      Platform                Wanadoo      0.01      0.00   \n",
       "\n",
       "       JP_Sales  Other_Sales  Global_Sales  \n",
       "16588      0.00          0.0          0.01  \n",
       "16589      0.01          0.0          0.01  \n",
       "16590      0.01          0.0          0.01  \n",
       "16591      0.00          0.0          0.01  \n",
       "16592      0.00          0.0          0.01  \n",
       "16593      0.00          0.0          0.01  \n",
       "16594      0.00          0.0          0.01  \n",
       "16595      0.00          0.0          0.01  \n",
       "16596      0.00          0.0          0.01  \n",
       "16597      0.00          0.0          0.01  "
      ]
     },
     "execution_count": 5,
     "metadata": {},
     "output_type": "execute_result"
    }
   ],
   "source": [
    "#menampilkan data pada 10 baris terakhir dalam dataset\n",
    "vgs_data.tail(10)"
   ]
  },
  {
   "cell_type": "markdown",
   "metadata": {
    "id": "zfIm7GVAlFFV"
   },
   "source": [
    "**Tipe Data yang Terdapat Dalam Tabel**"
   ]
  },
  {
   "cell_type": "code",
   "execution_count": 6,
   "metadata": {
    "colab": {
     "base_uri": "https://localhost:8080/"
    },
    "id": "VXzunJTKZzxW",
    "outputId": "3e23a82f-f993-4f7a-ab17-47d08f6489e1"
   },
   "outputs": [
    {
     "data": {
      "text/plain": [
       "Rank              int64\n",
       "Name             object\n",
       "Platform         object\n",
       "Year            float64\n",
       "Genre            object\n",
       "Publisher        object\n",
       "NA_Sales        float64\n",
       "EU_Sales        float64\n",
       "JP_Sales        float64\n",
       "Other_Sales     float64\n",
       "Global_Sales    float64\n",
       "dtype: object"
      ]
     },
     "execution_count": 6,
     "metadata": {},
     "output_type": "execute_result"
    }
   ],
   "source": [
    "vgs_data.dtypes"
   ]
  },
  {
   "cell_type": "markdown",
   "metadata": {
    "id": "amoLub0ElNV6"
   },
   "source": [
    "**Penjelasan Data Bertipe Float64**"
   ]
  },
  {
   "cell_type": "markdown",
   "metadata": {
    "id": "3RgA1MT55Xjb"
   },
   "source": [
    "Pada tahapan ini didapatkan mengenai rangkuman statistik dari kolom yang bersifat numerik seperti rata-rata dan standar deviasi."
   ]
  },
  {
   "cell_type": "code",
   "execution_count": 7,
   "metadata": {
    "colab": {
     "base_uri": "https://localhost:8080/"
    },
    "id": "Rb6MBEuRZ1kn",
    "outputId": "0db9bb28-ef03-491f-cfda-b09bf9629627"
   },
   "outputs": [
    {
     "data": {
      "text/html": [
       "<div>\n",
       "<style scoped>\n",
       "    .dataframe tbody tr th:only-of-type {\n",
       "        vertical-align: middle;\n",
       "    }\n",
       "\n",
       "    .dataframe tbody tr th {\n",
       "        vertical-align: top;\n",
       "    }\n",
       "\n",
       "    .dataframe thead th {\n",
       "        text-align: right;\n",
       "    }\n",
       "</style>\n",
       "<table border=\"1\" class=\"dataframe\">\n",
       "  <thead>\n",
       "    <tr style=\"text-align: right;\">\n",
       "      <th></th>\n",
       "      <th>Rank</th>\n",
       "      <th>Year</th>\n",
       "      <th>NA_Sales</th>\n",
       "      <th>EU_Sales</th>\n",
       "      <th>JP_Sales</th>\n",
       "      <th>Other_Sales</th>\n",
       "      <th>Global_Sales</th>\n",
       "    </tr>\n",
       "  </thead>\n",
       "  <tbody>\n",
       "    <tr>\n",
       "      <td>count</td>\n",
       "      <td>16598.000000</td>\n",
       "      <td>16327.000000</td>\n",
       "      <td>16598.000000</td>\n",
       "      <td>16598.000000</td>\n",
       "      <td>16598.000000</td>\n",
       "      <td>16598.000000</td>\n",
       "      <td>16598.000000</td>\n",
       "    </tr>\n",
       "    <tr>\n",
       "      <td>mean</td>\n",
       "      <td>8300.605254</td>\n",
       "      <td>2006.406443</td>\n",
       "      <td>0.264667</td>\n",
       "      <td>0.146652</td>\n",
       "      <td>0.077782</td>\n",
       "      <td>0.048063</td>\n",
       "      <td>0.537441</td>\n",
       "    </tr>\n",
       "    <tr>\n",
       "      <td>std</td>\n",
       "      <td>4791.853933</td>\n",
       "      <td>5.828981</td>\n",
       "      <td>0.816683</td>\n",
       "      <td>0.505351</td>\n",
       "      <td>0.309291</td>\n",
       "      <td>0.188588</td>\n",
       "      <td>1.555028</td>\n",
       "    </tr>\n",
       "    <tr>\n",
       "      <td>min</td>\n",
       "      <td>1.000000</td>\n",
       "      <td>1980.000000</td>\n",
       "      <td>0.000000</td>\n",
       "      <td>0.000000</td>\n",
       "      <td>0.000000</td>\n",
       "      <td>0.000000</td>\n",
       "      <td>0.010000</td>\n",
       "    </tr>\n",
       "    <tr>\n",
       "      <td>25%</td>\n",
       "      <td>4151.250000</td>\n",
       "      <td>2003.000000</td>\n",
       "      <td>0.000000</td>\n",
       "      <td>0.000000</td>\n",
       "      <td>0.000000</td>\n",
       "      <td>0.000000</td>\n",
       "      <td>0.060000</td>\n",
       "    </tr>\n",
       "    <tr>\n",
       "      <td>50%</td>\n",
       "      <td>8300.500000</td>\n",
       "      <td>2007.000000</td>\n",
       "      <td>0.080000</td>\n",
       "      <td>0.020000</td>\n",
       "      <td>0.000000</td>\n",
       "      <td>0.010000</td>\n",
       "      <td>0.170000</td>\n",
       "    </tr>\n",
       "    <tr>\n",
       "      <td>75%</td>\n",
       "      <td>12449.750000</td>\n",
       "      <td>2010.000000</td>\n",
       "      <td>0.240000</td>\n",
       "      <td>0.110000</td>\n",
       "      <td>0.040000</td>\n",
       "      <td>0.040000</td>\n",
       "      <td>0.470000</td>\n",
       "    </tr>\n",
       "    <tr>\n",
       "      <td>max</td>\n",
       "      <td>16600.000000</td>\n",
       "      <td>2020.000000</td>\n",
       "      <td>41.490000</td>\n",
       "      <td>29.020000</td>\n",
       "      <td>10.220000</td>\n",
       "      <td>10.570000</td>\n",
       "      <td>82.740000</td>\n",
       "    </tr>\n",
       "  </tbody>\n",
       "</table>\n",
       "</div>"
      ],
      "text/plain": [
       "               Rank          Year      NA_Sales      EU_Sales      JP_Sales  \\\n",
       "count  16598.000000  16327.000000  16598.000000  16598.000000  16598.000000   \n",
       "mean    8300.605254   2006.406443      0.264667      0.146652      0.077782   \n",
       "std     4791.853933      5.828981      0.816683      0.505351      0.309291   \n",
       "min        1.000000   1980.000000      0.000000      0.000000      0.000000   \n",
       "25%     4151.250000   2003.000000      0.000000      0.000000      0.000000   \n",
       "50%     8300.500000   2007.000000      0.080000      0.020000      0.000000   \n",
       "75%    12449.750000   2010.000000      0.240000      0.110000      0.040000   \n",
       "max    16600.000000   2020.000000     41.490000     29.020000     10.220000   \n",
       "\n",
       "        Other_Sales  Global_Sales  \n",
       "count  16598.000000  16598.000000  \n",
       "mean       0.048063      0.537441  \n",
       "std        0.188588      1.555028  \n",
       "min        0.000000      0.010000  \n",
       "25%        0.000000      0.060000  \n",
       "50%        0.010000      0.170000  \n",
       "75%        0.040000      0.470000  \n",
       "max       10.570000     82.740000  "
      ]
     },
     "execution_count": 7,
     "metadata": {},
     "output_type": "execute_result"
    }
   ],
   "source": [
    "vgs_data.describe()"
   ]
  },
  {
   "cell_type": "markdown",
   "metadata": {
    "id": "GLacLmOPu_Wc"
   },
   "source": [
    "**Jumlah Data Unik pada Kolom dengan Tipe Data Object**"
   ]
  },
  {
   "cell_type": "markdown",
   "metadata": {
    "id": "800VmbZXwOBi"
   },
   "source": [
    "Dari data yang ada, terdapat 31 jenis platform, 12 jenis genre game, dan 579 publisher game"
   ]
  },
  {
   "cell_type": "code",
   "execution_count": 8,
   "metadata": {
    "colab": {
     "base_uri": "https://localhost:8080/"
    },
    "id": "fB9qSq8imI6q",
    "outputId": "3194f230-6a82-4d3c-dba9-4c8606819243"
   },
   "outputs": [
    {
     "name": "stdout",
     "output_type": "stream",
     "text": [
      "Column name: Name\n",
      "Unique entry: 11493\n",
      "\n",
      "Column name: Platform\n",
      "Unique entry: 31\n",
      "\n",
      "Column name: Genre\n",
      "Unique entry: 12\n",
      "\n",
      "Column name: Publisher\n",
      "Unique entry: 579\n",
      "\n"
     ]
    }
   ],
   "source": [
    "for column in vgs_data.columns:\n",
    "    if vgs_data[column].dtypes == \"object\":\n",
    "        print(\"Column name: {}\".format(column))\n",
    "        print(\"Unique entry: {}\".format(len(vgs_data[column].unique())))\n",
    "        print()"
   ]
  },
  {
   "cell_type": "markdown",
   "metadata": {
    "id": "qVgsjg4kUzqr"
   },
   "source": [
    "## *Data Wrangling* "
   ]
  },
  {
   "cell_type": "markdown",
   "metadata": {
    "id": "c3uSf9Qf8gsI"
   },
   "source": [
    "Segmen ini berisi proses konversi data dari format awal ke format yang lebih baik untuk proses analisis ke tahap-tahap selanjutnya"
   ]
  },
  {
   "cell_type": "code",
   "execution_count": 9,
   "metadata": {
    "id": "twINwGVwX5XO"
   },
   "outputs": [],
   "source": [
    "#impor library matplotlib\n",
    "\n",
    "import matplotlib.pylab as plt"
   ]
  },
  {
   "cell_type": "code",
   "execution_count": 10,
   "metadata": {
    "colab": {
     "base_uri": "https://localhost:8080/"
    },
    "id": "beZAisKuaiHF",
    "outputId": "a66031dd-79c4-401b-e7a4-ad59e30bf885"
   },
   "outputs": [
    {
     "data": {
      "text/html": [
       "<div>\n",
       "<style scoped>\n",
       "    .dataframe tbody tr th:only-of-type {\n",
       "        vertical-align: middle;\n",
       "    }\n",
       "\n",
       "    .dataframe tbody tr th {\n",
       "        vertical-align: top;\n",
       "    }\n",
       "\n",
       "    .dataframe thead th {\n",
       "        text-align: right;\n",
       "    }\n",
       "</style>\n",
       "<table border=\"1\" class=\"dataframe\">\n",
       "  <thead>\n",
       "    <tr style=\"text-align: right;\">\n",
       "      <th></th>\n",
       "      <th>Rank</th>\n",
       "      <th>Name</th>\n",
       "      <th>Platform</th>\n",
       "      <th>Year</th>\n",
       "      <th>Genre</th>\n",
       "      <th>Publisher</th>\n",
       "      <th>NA_Sales</th>\n",
       "      <th>EU_Sales</th>\n",
       "      <th>JP_Sales</th>\n",
       "      <th>Other_Sales</th>\n",
       "      <th>Global_Sales</th>\n",
       "    </tr>\n",
       "  </thead>\n",
       "  <tbody>\n",
       "    <tr>\n",
       "      <td>0</td>\n",
       "      <td>1</td>\n",
       "      <td>Wii Sports</td>\n",
       "      <td>Wii</td>\n",
       "      <td>2006.0</td>\n",
       "      <td>Sports</td>\n",
       "      <td>Nintendo</td>\n",
       "      <td>41.49</td>\n",
       "      <td>29.02</td>\n",
       "      <td>3.77</td>\n",
       "      <td>8.46</td>\n",
       "      <td>82.74</td>\n",
       "    </tr>\n",
       "    <tr>\n",
       "      <td>1</td>\n",
       "      <td>2</td>\n",
       "      <td>Super Mario Bros.</td>\n",
       "      <td>NES</td>\n",
       "      <td>1985.0</td>\n",
       "      <td>Platform</td>\n",
       "      <td>Nintendo</td>\n",
       "      <td>29.08</td>\n",
       "      <td>3.58</td>\n",
       "      <td>6.81</td>\n",
       "      <td>0.77</td>\n",
       "      <td>40.24</td>\n",
       "    </tr>\n",
       "    <tr>\n",
       "      <td>2</td>\n",
       "      <td>3</td>\n",
       "      <td>Mario Kart Wii</td>\n",
       "      <td>Wii</td>\n",
       "      <td>2008.0</td>\n",
       "      <td>Racing</td>\n",
       "      <td>Nintendo</td>\n",
       "      <td>15.85</td>\n",
       "      <td>12.88</td>\n",
       "      <td>3.79</td>\n",
       "      <td>3.31</td>\n",
       "      <td>35.82</td>\n",
       "    </tr>\n",
       "    <tr>\n",
       "      <td>3</td>\n",
       "      <td>4</td>\n",
       "      <td>Wii Sports Resort</td>\n",
       "      <td>Wii</td>\n",
       "      <td>2009.0</td>\n",
       "      <td>Sports</td>\n",
       "      <td>Nintendo</td>\n",
       "      <td>15.75</td>\n",
       "      <td>11.01</td>\n",
       "      <td>3.28</td>\n",
       "      <td>2.96</td>\n",
       "      <td>33.00</td>\n",
       "    </tr>\n",
       "    <tr>\n",
       "      <td>4</td>\n",
       "      <td>5</td>\n",
       "      <td>Pokemon Red/Pokemon Blue</td>\n",
       "      <td>GB</td>\n",
       "      <td>1996.0</td>\n",
       "      <td>Role-Playing</td>\n",
       "      <td>Nintendo</td>\n",
       "      <td>11.27</td>\n",
       "      <td>8.89</td>\n",
       "      <td>10.22</td>\n",
       "      <td>1.00</td>\n",
       "      <td>31.37</td>\n",
       "    </tr>\n",
       "  </tbody>\n",
       "</table>\n",
       "</div>"
      ],
      "text/plain": [
       "   Rank                      Name Platform    Year         Genre Publisher  \\\n",
       "0     1                Wii Sports      Wii  2006.0        Sports  Nintendo   \n",
       "1     2         Super Mario Bros.      NES  1985.0      Platform  Nintendo   \n",
       "2     3            Mario Kart Wii      Wii  2008.0        Racing  Nintendo   \n",
       "3     4         Wii Sports Resort      Wii  2009.0        Sports  Nintendo   \n",
       "4     5  Pokemon Red/Pokemon Blue       GB  1996.0  Role-Playing  Nintendo   \n",
       "\n",
       "   NA_Sales  EU_Sales  JP_Sales  Other_Sales  Global_Sales  \n",
       "0     41.49     29.02      3.77         8.46         82.74  \n",
       "1     29.08      3.58      6.81         0.77         40.24  \n",
       "2     15.85     12.88      3.79         3.31         35.82  \n",
       "3     15.75     11.01      3.28         2.96         33.00  \n",
       "4     11.27      8.89     10.22         1.00         31.37  "
      ]
     },
     "execution_count": 10,
     "metadata": {},
     "output_type": "execute_result"
    }
   ],
   "source": [
    "vgs_data.head()"
   ]
  },
  {
   "cell_type": "markdown",
   "metadata": {
    "id": "bJ0I1a3FcXPS"
   },
   "source": [
    "**Identifikasi *Missing Data* dari Data vg_sales**"
   ]
  },
  {
   "cell_type": "code",
   "execution_count": 11,
   "metadata": {
    "colab": {
     "base_uri": "https://localhost:8080/"
    },
    "id": "XM-MTlA9Zu4W",
    "outputId": "139321f6-b199-4917-b9f9-b227f366364b"
   },
   "outputs": [
    {
     "name": "stdout",
     "output_type": "stream",
     "text": [
      "Rank\n",
      "False    16598\n",
      "Name: Rank, dtype: int64\n",
      "\n",
      "Name\n",
      "False    16598\n",
      "Name: Name, dtype: int64\n",
      "\n",
      "Platform\n",
      "False    16598\n",
      "Name: Platform, dtype: int64\n",
      "\n",
      "Year\n",
      "False    16327\n",
      "True       271\n",
      "Name: Year, dtype: int64\n",
      "\n",
      "Genre\n",
      "False    16598\n",
      "Name: Genre, dtype: int64\n",
      "\n",
      "Publisher\n",
      "False    16540\n",
      "True        58\n",
      "Name: Publisher, dtype: int64\n",
      "\n",
      "NA_Sales\n",
      "False    16598\n",
      "Name: NA_Sales, dtype: int64\n",
      "\n",
      "EU_Sales\n",
      "False    16598\n",
      "Name: EU_Sales, dtype: int64\n",
      "\n",
      "JP_Sales\n",
      "False    16598\n",
      "Name: JP_Sales, dtype: int64\n",
      "\n",
      "Other_Sales\n",
      "False    16598\n",
      "Name: Other_Sales, dtype: int64\n",
      "\n",
      "Global_Sales\n",
      "False    16598\n",
      "Name: Global_Sales, dtype: int64\n",
      "\n"
     ]
    }
   ],
   "source": [
    "missing_data = vgs_data.isnull()\n",
    "for column in missing_data.columns.values.tolist():\n",
    "  print(column)\n",
    "  print(missing_data[column].value_counts())\n",
    "  print(\"\")"
   ]
  },
  {
   "cell_type": "markdown",
   "metadata": {
    "id": "Si1XGyhob0nW"
   },
   "source": [
    "Berdasarkan tampilan data di atas, setiap kolom dari data penjualan game memiliki total 16598 baris data, dengan 2 kolom memiliki *missing data* sebagai berikut:\n",
    "\n",
    "\n",
    "1.   \"Year\": 271 *missing data*\n",
    "2.   \"Publisher\": 58 *missing data*\n",
    "\n"
   ]
  },
  {
   "cell_type": "markdown",
   "metadata": {
    "id": "9zbuqSpEcjdl"
   },
   "source": [
    "Untuk menangani *missing data* tersebut, akan dilakukan **drop** baris data dari kolom yang memiliki *missing data*. Alasannya adalah data dari kolom \"Year\" dan \"Publisher\" tidak tepat jika di-*replace* dengan *mean*, *frequency*, ataupun membuat fungsi baru, karena data dari kolom-kolom tersebut tidak dibatasi (\"Year\" bisa kapanpun dan \"Publisher\" bisa siapapun). Selain itu, jumlah *missing data* lebih kecil dari 2% dari total data yang akan dianalisis, sehingga **drop** data tidak akan berpengaruh secara signifikan.\n",
    "\n"
   ]
  },
  {
   "cell_type": "code",
   "execution_count": 12,
   "metadata": {
    "id": "YTGxbVUmaA3u"
   },
   "outputs": [],
   "source": [
    "# melakukan drop data dari baris-baris yang memiliki missing data\n",
    "# drop baris pada kolom \"Year\"\n",
    "vgs_data.dropna(subset = [\"Year\"], axis = 0, inplace = True)\n",
    "# drop baris pada kolom \"Publisher\"\n",
    "vgs_data.dropna(subset = [\"Publisher\"], axis = 0, inplace = True)\n",
    "# reset index\n",
    "vgs_data.reset_index(drop=True, inplace=True)"
   ]
  },
  {
   "cell_type": "code",
   "execution_count": 13,
   "metadata": {
    "colab": {
     "base_uri": "https://localhost:8080/"
    },
    "id": "rmWOTNaPixLo",
    "outputId": "ccce9f53-1866-4a00-8ae9-1fdf6e9c9117"
   },
   "outputs": [
    {
     "name": "stdout",
     "output_type": "stream",
     "text": [
      "Rank\n",
      "False    16291\n",
      "Name: Rank, dtype: int64\n",
      "\n",
      "Name\n",
      "False    16291\n",
      "Name: Name, dtype: int64\n",
      "\n",
      "Platform\n",
      "False    16291\n",
      "Name: Platform, dtype: int64\n",
      "\n",
      "Year\n",
      "False    16291\n",
      "Name: Year, dtype: int64\n",
      "\n",
      "Genre\n",
      "False    16291\n",
      "Name: Genre, dtype: int64\n",
      "\n",
      "Publisher\n",
      "False    16291\n",
      "Name: Publisher, dtype: int64\n",
      "\n",
      "NA_Sales\n",
      "False    16291\n",
      "Name: NA_Sales, dtype: int64\n",
      "\n",
      "EU_Sales\n",
      "False    16291\n",
      "Name: EU_Sales, dtype: int64\n",
      "\n",
      "JP_Sales\n",
      "False    16291\n",
      "Name: JP_Sales, dtype: int64\n",
      "\n",
      "Other_Sales\n",
      "False    16291\n",
      "Name: Other_Sales, dtype: int64\n",
      "\n",
      "Global_Sales\n",
      "False    16291\n",
      "Name: Global_Sales, dtype: int64\n",
      "\n"
     ]
    }
   ],
   "source": [
    "missing_data_now = vgs_data.isnull()\n",
    "\n",
    "for column in missing_data_now.columns.values.tolist():\n",
    "  print(column)\n",
    "  print(missing_data_now[column].value_counts())\n",
    "  print(\"\")"
   ]
  },
  {
   "cell_type": "markdown",
   "metadata": {
    "id": "ARh0ZMCAoDNj"
   },
   "source": [
    "**Perbaikan Format Data**"
   ]
  },
  {
   "cell_type": "markdown",
   "metadata": {
    "id": "IWFiGwgaoS9w"
   },
   "source": [
    "Pada segmen *Basic Insight of Dataset* telah diberikan tipe-tipe data dari data penjualan Video Games. Pada bagian ini, akan dilakukan reformat data terhadap tipe data yang tidak sesuai.\n",
    "\n",
    "Data yang akan di-reformat tipe data \"Year\", yang awalnya **float64** akan diubah menjadi **int64**, karena bilangan pada tahun seharusnya adalah bilangan bulat positif (bukan bilangan asli).\n"
   ]
  },
  {
   "cell_type": "code",
   "execution_count": 14,
   "metadata": {
    "colab": {
     "base_uri": "https://localhost:8080/"
    },
    "id": "WtRvehk6qKva",
    "outputId": "ede8741f-48f7-403c-d0c0-79c6de42a712"
   },
   "outputs": [
    {
     "data": {
      "text/plain": [
       "Rank              int64\n",
       "Name             object\n",
       "Platform         object\n",
       "Year              int64\n",
       "Genre            object\n",
       "Publisher        object\n",
       "NA_Sales        float64\n",
       "EU_Sales        float64\n",
       "JP_Sales        float64\n",
       "Other_Sales     float64\n",
       "Global_Sales    float64\n",
       "dtype: object"
      ]
     },
     "execution_count": 14,
     "metadata": {},
     "output_type": "execute_result"
    }
   ],
   "source": [
    "# konversi tipe data \"Year\" ke format yang lebih sesuai\n",
    "vgs_data[\"Year\"] = vgs_data[\"Year\"].astype('int64')\n",
    "\n",
    "# tampilkan tipe data keseluruhan\n",
    "vgs_data.dtypes"
   ]
  },
  {
   "cell_type": "markdown",
   "metadata": {
    "id": "OtjN98Jet4ac"
   },
   "source": [
    "***Binning***"
   ]
  },
  {
   "cell_type": "markdown",
   "metadata": {
    "id": "ImaCwEBvt7M-"
   },
   "source": [
    "Pada *binning* data, akan dilakukan transformasi variabel numerik (yaitu, harga penjualan dari setiap jenis penjualan per daerah)  untuk dikategorikan secara diskrit. Berdasarkan kategori diskrit yang dimaksud, data akan di-grup berdasarkan kategori \"Low\", \"Medium\", dan \"High\". Tahapan yang akan dilakukan adalah menentukan 4 titik nilai berdasarkan kuartil, memberikan nama grup kategori yang telah ditentukan, dan menentukan 4 nilai yang telah dibagi ke setiap kategori berdasarkan *range* antar nilai.\n"
   ]
  },
  {
   "cell_type": "code",
   "execution_count": 15,
   "metadata": {
    "colab": {
     "base_uri": "https://localhost:8080/"
    },
    "id": "oQ4-mCX8yH62",
    "outputId": "ceaf73bd-c341-4812-a4f2-352d3ea169e2"
   },
   "outputs": [
    {
     "data": {
      "text/plain": [
       "Text(0.5, 1.0, 'NA_Sales bins')"
      ]
     },
     "execution_count": 15,
     "metadata": {},
     "output_type": "execute_result"
    },
    {
     "data": {
      "image/png": "[encoded data removed]",
      "text/plain": [
       "<Figure size 432x288 with 1 Axes>"
      ]
     },
     "metadata": {
      "needs_background": "light"
     },
     "output_type": "display_data"
    }
   ],
   "source": [
    "%matplotlib inline\n",
    "import matplotlib as plt\n",
    "from matplotlib import pyplot\n",
    "plt.pyplot.hist(vgs_data[\"NA_Sales\"])\n",
    "\n",
    "# set x/y labels and plot title\n",
    "plt.pyplot.xlabel(\"Sales in North America (in million USD)\")\n",
    "plt.pyplot.ylabel(\"count\")\n",
    "plt.pyplot.title(\"NA_Sales bins\")"
   ]
  },
  {
   "cell_type": "code",
   "execution_count": 16,
   "metadata": {
    "id": "2DR09crrzkK_"
   },
   "outputs": [],
   "source": [
    "# proses binning data\n",
    "# menentukan nilai berdasarkan kuartil\n",
    "bins = np.linspace(min(vgs_data[\"NA_Sales\"]), max(vgs_data[\"NA_Sales\"]), 4)\n",
    "# menentukan kategori\n",
    "group_category = ['Low', 'Medium', 'High']\n",
    "# menentukan range nilai dari setiap kategori\n",
    "vgs_data['NA_Sales-binned'] = pd.cut(vgs_data['NA_Sales'], bins, labels=group_category, include_lowest=True)"
   ]
  },
  {
   "cell_type": "markdown",
   "metadata": {
    "id": "_Qod3r3P2du9"
   },
   "source": [
    "Dari proses *binning* di atas, didapatkan hasil *binning* pada data penjualan pada Amerika Utara sebagai berikut."
   ]
  },
  {
   "cell_type": "code",
   "execution_count": 17,
   "metadata": {
    "colab": {
     "base_uri": "https://localhost:8080/"
    },
    "id": "9-xlUVjs1glZ",
    "outputId": "dd72385b-56fc-4e2e-9428-bc1ccb96f15f"
   },
   "outputs": [
    {
     "data": {
      "text/plain": [
       "Text(0.5, 1.0, 'NA_Sales bins')"
      ]
     },
     "execution_count": 17,
     "metadata": {},
     "output_type": "execute_result"
    },
    {
     "data": {
      "image/png": "[encoded data removed]",
      "text/plain": [
       "<Figure size 432x288 with 1 Axes>"
      ]
     },
     "metadata": {
      "needs_background": "light"
     },
     "output_type": "display_data"
    }
   ],
   "source": [
    "%matplotlib inline\n",
    "import matplotlib as plt\n",
    "from matplotlib import pyplot\n",
    "pyplot.bar(group_category, vgs_data[\"NA_Sales-binned\"].value_counts())\n",
    "\n",
    "# set x/y labels and plot title\n",
    "plt.pyplot.xlabel(\"Sales in North America  (in million USD)\")\n",
    "plt.pyplot.ylabel(\"count\")\n",
    "plt.pyplot.title(\"NA_Sales bins\")"
   ]
  },
  {
   "cell_type": "markdown",
   "metadata": {
    "id": "mKZ75VUc2leB"
   },
   "source": [
    "Dengan proses yang sama, dilakukan *binning* data untuk EU_Sales, JP_Sales,Other_Sales, dan Global_Sales."
   ]
  },
  {
   "cell_type": "code",
   "execution_count": 18,
   "metadata": {
    "id": "0S2q-BSR2y6N"
   },
   "outputs": [],
   "source": [
    "# proses binning data\n",
    "# menentukan nilai berdasarkan kuartil\n",
    "bins_EU = np.linspace(min(vgs_data[\"EU_Sales\"]), max(vgs_data[\"EU_Sales\"]), 4)\n",
    "bins_JP = np.linspace(min(vgs_data[\"JP_Sales\"]), max(vgs_data[\"JP_Sales\"]), 4)\n",
    "bins_Other = np.linspace(min(vgs_data[\"Other_Sales\"]), max(vgs_data[\"Other_Sales\"]), 4)\n",
    "bins_Global = np.linspace(min(vgs_data[\"Global_Sales\"]), max(vgs_data[\"Global_Sales\"]), 4)\n",
    "# menentukan kategori\n",
    "group_category = ['Low', 'Medium', 'High']\n",
    "# menentukan range nilai dari setiap kategori\n",
    "vgs_data['EU_Sales-binned'] = pd.cut(vgs_data['EU_Sales'], bins_EU, labels=group_category, include_lowest=True)\n",
    "vgs_data['JP_Sales-binned'] = pd.cut(vgs_data['JP_Sales'], bins_JP, labels=group_category, include_lowest=True)\n",
    "vgs_data['Other_Sales-binned'] = pd.cut(vgs_data['Other_Sales'], bins_Other, labels=group_category, include_lowest=True)\n",
    "vgs_data['Global_Sales-binned'] = pd.cut(vgs_data['Global_Sales'], bins_Global, labels=group_category, include_lowest=True)"
   ]
  },
  {
   "cell_type": "code",
   "execution_count": 19,
   "metadata": {
    "colab": {
     "base_uri": "https://localhost:8080/"
    },
    "id": "TbCLWukB3adt",
    "outputId": "8f984a75-94dd-4082-c743-838607d41dfb"
   },
   "outputs": [
    {
     "data": {
      "text/plain": [
       "Text(0.5, 1.0, 'EU_Sales bins')"
      ]
     },
     "execution_count": 19,
     "metadata": {},
     "output_type": "execute_result"
    },
    {
     "data": {
      "image/png": "[encoded data removed]",
      "text/plain": [
       "<Figure size 432x288 with 1 Axes>"
      ]
     },
     "metadata": {
      "needs_background": "light"
     },
     "output_type": "display_data"
    }
   ],
   "source": [
    "%matplotlib inline\n",
    "import matplotlib as plt\n",
    "from matplotlib import pyplot\n",
    "pyplot.bar(group_category, vgs_data[\"EU_Sales-binned\"].value_counts())\n",
    "\n",
    "# set x/y labels and plot title\n",
    "plt.pyplot.xlabel(\"Sales in Europe\")\n",
    "plt.pyplot.ylabel(\"count\")\n",
    "plt.pyplot.title(\"EU_Sales bins\")"
   ]
  },
  {
   "cell_type": "code",
   "execution_count": 20,
   "metadata": {
    "colab": {
     "base_uri": "https://localhost:8080/"
    },
    "id": "tfJbVYJE7hnQ",
    "outputId": "2d1078de-dd75-493c-99b3-e035485a6ef7"
   },
   "outputs": [
    {
     "data": {
      "text/plain": [
       "Low       16287\n",
       "Medium        3\n",
       "High          1\n",
       "Name: EU_Sales-binned, dtype: int64"
      ]
     },
     "execution_count": 20,
     "metadata": {},
     "output_type": "execute_result"
    }
   ],
   "source": [
    "vgs_data[\"EU_Sales-binned\"].value_counts()"
   ]
  },
  {
   "cell_type": "code",
   "execution_count": 21,
   "metadata": {
    "colab": {
     "base_uri": "https://localhost:8080/"
    },
    "id": "agubJG7W3uW-",
    "outputId": "9e62c15b-fc5b-485c-b1d1-dea533ab9046"
   },
   "outputs": [
    {
     "data": {
      "text/plain": [
       "Text(0.5, 1.0, 'JP_Sales bins')"
      ]
     },
     "execution_count": 21,
     "metadata": {},
     "output_type": "execute_result"
    },
    {
     "data": {
      "image/png": "[encoded data removed]",
      "text/plain": [
       "<Figure size 432x288 with 1 Axes>"
      ]
     },
     "metadata": {
      "needs_background": "light"
     },
     "output_type": "display_data"
    }
   ],
   "source": [
    "%matplotlib inline\n",
    "import matplotlib as plt\n",
    "from matplotlib import pyplot\n",
    "pyplot.bar(group_category, vgs_data[\"JP_Sales-binned\"].value_counts())\n",
    "\n",
    "# set x/y labels and plot title\n",
    "plt.pyplot.xlabel(\"Sales in Japan (in million USD)\")\n",
    "plt.pyplot.ylabel(\"count\")\n",
    "plt.pyplot.title(\"JP_Sales bins\")"
   ]
  },
  {
   "cell_type": "code",
   "execution_count": 22,
   "metadata": {
    "colab": {
     "base_uri": "https://localhost:8080/"
    },
    "id": "N7ZEKBix7o-0",
    "outputId": "de04819b-615b-4cc3-fe47-f0a614a81d62"
   },
   "outputs": [
    {
     "data": {
      "text/plain": [
       "Low       16259\n",
       "Medium       30\n",
       "High          2\n",
       "Name: JP_Sales-binned, dtype: int64"
      ]
     },
     "execution_count": 22,
     "metadata": {},
     "output_type": "execute_result"
    }
   ],
   "source": [
    "vgs_data[\"JP_Sales-binned\"].value_counts()"
   ]
  },
  {
   "cell_type": "code",
   "execution_count": 23,
   "metadata": {
    "colab": {
     "base_uri": "https://localhost:8080/"
    },
    "id": "nn6XrMHW30_D",
    "outputId": "7f173395-bc80-4b6d-e841-e33d3720833e"
   },
   "outputs": [
    {
     "data": {
      "text/plain": [
       "Text(0.5, 1.0, 'Other_Sales bins')"
      ]
     },
     "execution_count": 23,
     "metadata": {},
     "output_type": "execute_result"
    },
    {
     "data": {
      "image/png": "[encoded data removed]",
      "text/plain": [
       "<Figure size 432x288 with 1 Axes>"
      ]
     },
     "metadata": {
      "needs_background": "light"
     },
     "output_type": "display_data"
    }
   ],
   "source": [
    "%matplotlib inline\n",
    "import matplotlib as plt\n",
    "from matplotlib import pyplot\n",
    "pyplot.bar(group_category, vgs_data[\"Other_Sales-binned\"].value_counts())\n",
    "\n",
    "# set x/y labels and plot title\n",
    "plt.pyplot.xlabel(\"Sales in Other Region (in million USD)\")\n",
    "plt.pyplot.ylabel(\"count\")\n",
    "plt.pyplot.title(\"Other_Sales bins\")"
   ]
  },
  {
   "cell_type": "code",
   "execution_count": 24,
   "metadata": {
    "colab": {
     "base_uri": "https://localhost:8080/"
    },
    "id": "xwj8A4xx7rfk",
    "outputId": "fff02092-7872-454e-bed1-6dd940840ce6"
   },
   "outputs": [
    {
     "data": {
      "text/plain": [
       "Low       16287\n",
       "High          3\n",
       "Medium        1\n",
       "Name: Other_Sales-binned, dtype: int64"
      ]
     },
     "execution_count": 24,
     "metadata": {},
     "output_type": "execute_result"
    }
   ],
   "source": [
    "vgs_data[\"Other_Sales-binned\"].value_counts()"
   ]
  },
  {
   "cell_type": "code",
   "execution_count": 25,
   "metadata": {
    "colab": {
     "base_uri": "https://localhost:8080/"
    },
    "id": "nv5jg0hL39DJ",
    "outputId": "1da2fb4d-15a5-423a-f0b1-696a48262a39"
   },
   "outputs": [
    {
     "data": {
      "text/plain": [
       "Text(0.5, 1.0, 'Global_Sales bins')"
      ]
     },
     "execution_count": 25,
     "metadata": {},
     "output_type": "execute_result"
    },
    {
     "data": {
      "image/png": "[encoded data removed]",
      "text/plain": [
       "<Figure size 432x288 with 1 Axes>"
      ]
     },
     "metadata": {
      "needs_background": "light"
     },
     "output_type": "display_data"
    }
   ],
   "source": [
    "%matplotlib inline\n",
    "import matplotlib as plt\n",
    "from matplotlib import pyplot\n",
    "pyplot.bar(group_category, vgs_data[\"Global_Sales-binned\"].value_counts())\n",
    "\n",
    "# set x/y labels and plot title\n",
    "plt.pyplot.xlabel(\"Sales in Global (in million USD)\")\n",
    "plt.pyplot.ylabel(\"count\")\n",
    "plt.pyplot.title(\"Global_Sales bins\")"
   ]
  },
  {
   "cell_type": "code",
   "execution_count": 26,
   "metadata": {
    "colab": {
     "base_uri": "https://localhost:8080/"
    },
    "id": "dha4v8-s7uRS",
    "outputId": "100d4f53-64c9-41a0-a956-0161ad9a6835"
   },
   "outputs": [
    {
     "data": {
      "text/plain": [
       "Low       16281\n",
       "Medium        9\n",
       "High          1\n",
       "Name: Global_Sales-binned, dtype: int64"
      ]
     },
     "execution_count": 26,
     "metadata": {},
     "output_type": "execute_result"
    }
   ],
   "source": [
    "vgs_data[\"Global_Sales-binned\"].value_counts()"
   ]
  },
  {
   "cell_type": "markdown",
   "metadata": {
    "id": "rhY6AgXC7Ee9"
   },
   "source": [
    "***Penambahan Fitur***"
   ]
  },
  {
   "cell_type": "markdown",
   "metadata": {
    "id": "eps2i3ti7loo"
   },
   "source": [
    "Pada bagian ini, akan ditambahkan beberapa fitur, yaitu persentase penjualan dari NA, JP, EU, dan Other sales dan persentase paling besar dari keempat persentase penjualan"
   ]
  },
  {
   "cell_type": "code",
   "execution_count": 27,
   "metadata": {
    "id": "BaxjLgN876aO"
   },
   "outputs": [],
   "source": [
    "# Total penjualan untuk tiap daerah\n",
    "NA = vgs_data['NA_Sales']\n",
    "JP = vgs_data['JP_Sales']\n",
    "EU = vgs_data['EU_Sales']\n",
    "OT = vgs_data['Other_Sales']\n",
    "totalNA = 0\n",
    "totalJP = 0\n",
    "totalEU = 0\n",
    "totalOT = 0\n",
    "for i in range(0, len(NA)) :\n",
    "  totalNA = totalNA + NA[i]\n",
    "  totalJP = totalJP + JP[i]\n",
    "  totalEU = totalEU + EU[i]\n",
    "  totalOT = totalOT + OT[i]"
   ]
  },
  {
   "cell_type": "code",
   "execution_count": 28,
   "metadata": {
    "id": "_Bsc0OkR_e8n"
   },
   "outputs": [],
   "source": [
    "# Fungsi untuk mencari persentasi penjualan\n",
    "def percentage(x, total) :\n",
    "  return(float(x)/total)"
   ]
  },
  {
   "cell_type": "code",
   "execution_count": 29,
   "metadata": {
    "id": "5VJG_4AJAUSq"
   },
   "outputs": [],
   "source": [
    "# Array yang menampung nilai persentase tiap penjualan\n",
    "NA_Percentage = [0 for i in range(len(vgs_data))]\n",
    "EU_Percentage = [0 for i in range(len(vgs_data))]\n",
    "JP_Percentage = [0 for i in range(len(vgs_data))]\n",
    "OT_Percentage = [0 for i in range(len(vgs_data))]\n",
    "for i in range(len(vgs_data)) :\n",
    "  NA_Percentage[i] = percentage(vgs_data['NA_Sales'][i], totalNA)\n",
    "  EU_Percentage[i] = percentage(vgs_data['EU_Sales'][i], totalEU)\n",
    "  JP_Percentage[i] = percentage(vgs_data['JP_Sales'][i], totalJP)\n",
    "  OT_Percentage[i] = percentage(vgs_data['Other_Sales'][i], totalOT)"
   ]
  },
  {
   "cell_type": "code",
   "execution_count": 30,
   "metadata": {
    "id": "b-fUZU24A-nA"
   },
   "outputs": [],
   "source": [
    "# Array yang menampung persentase terbesar\n",
    "Most_Percentage = [0 for i in range(len(vgs_data))]\n",
    "# Array yang menampung area yang memiliki persentase penjualan terbanyak\n",
    "Area_Most_Percentage = [0 for i in range(len(vgs_data))]\n",
    "for i in range(len(vgs_data)) :\n",
    "  if(NA_Percentage[i] > Most_Percentage[i]) :\n",
    "    Most_Percentage[i] = NA_Percentage[i]\n",
    "    Area_Most_Percentage[i] = \"NA\"\n",
    "  if(EU_Percentage[i] > Most_Percentage[i]) :\n",
    "    Most_Percentage[i] = EU_Percentage[i]\n",
    "    Area_Most_Percentage[i] = \"EU\"\n",
    "  if(JP_Percentage[i] > Most_Percentage[i]) :\n",
    "    Most_Percentage[i] = JP_Percentage[i]\n",
    "    Area_Most_Percentage[i] = \"JP\"\n",
    "  if(OT_Percentage[i] > Most_Percentage[i]) :\n",
    "    Most_Percentage[i] = OT_Percentage[i]\n",
    "    Area_Most_Percentage[i] = \"Other\""
   ]
  },
  {
   "cell_type": "code",
   "execution_count": 31,
   "metadata": {
    "id": "2T72BHuTCNgh"
   },
   "outputs": [],
   "source": [
    "# Masukkan fitur ke dalam tabel\n",
    "vgs_data.insert(11,\"Biggest Sales(Percentage)\",Most_Percentage,True)\n",
    "vgs_data.insert(12,\"Biggest Sales Area(Percentage)\",Area_Most_Percentage,True)"
   ]
  },
  {
   "cell_type": "code",
   "execution_count": 32,
   "metadata": {
    "colab": {
     "base_uri": "https://localhost:8080/"
    },
    "id": "YDnzBS3MCr4u",
    "outputId": "7e25b8ce-9a70-4357-9e37-18235b4bd5bd"
   },
   "outputs": [
    {
     "data": {
      "text/html": [
       "<div>\n",
       "<style scoped>\n",
       "    .dataframe tbody tr th:only-of-type {\n",
       "        vertical-align: middle;\n",
       "    }\n",
       "\n",
       "    .dataframe tbody tr th {\n",
       "        vertical-align: top;\n",
       "    }\n",
       "\n",
       "    .dataframe thead th {\n",
       "        text-align: right;\n",
       "    }\n",
       "</style>\n",
       "<table border=\"1\" class=\"dataframe\">\n",
       "  <thead>\n",
       "    <tr style=\"text-align: right;\">\n",
       "      <th></th>\n",
       "      <th>Rank</th>\n",
       "      <th>Name</th>\n",
       "      <th>Platform</th>\n",
       "      <th>Year</th>\n",
       "      <th>Genre</th>\n",
       "      <th>Publisher</th>\n",
       "      <th>NA_Sales</th>\n",
       "      <th>EU_Sales</th>\n",
       "      <th>JP_Sales</th>\n",
       "      <th>Other_Sales</th>\n",
       "      <th>Global_Sales</th>\n",
       "      <th>Biggest Sales(Percentage)</th>\n",
       "      <th>Biggest Sales Area(Percentage)</th>\n",
       "      <th>NA_Sales-binned</th>\n",
       "      <th>EU_Sales-binned</th>\n",
       "      <th>JP_Sales-binned</th>\n",
       "      <th>Other_Sales-binned</th>\n",
       "      <th>Global_Sales-binned</th>\n",
       "    </tr>\n",
       "  </thead>\n",
       "  <tbody>\n",
       "    <tr>\n",
       "      <td>0</td>\n",
       "      <td>1</td>\n",
       "      <td>Wii Sports</td>\n",
       "      <td>Wii</td>\n",
       "      <td>2006</td>\n",
       "      <td>Sports</td>\n",
       "      <td>Nintendo</td>\n",
       "      <td>41.49</td>\n",
       "      <td>29.02</td>\n",
       "      <td>3.77</td>\n",
       "      <td>8.46</td>\n",
       "      <td>82.74</td>\n",
       "      <td>0.012058</td>\n",
       "      <td>EU</td>\n",
       "      <td>High</td>\n",
       "      <td>High</td>\n",
       "      <td>Medium</td>\n",
       "      <td>High</td>\n",
       "      <td>High</td>\n",
       "    </tr>\n",
       "    <tr>\n",
       "      <td>1</td>\n",
       "      <td>2</td>\n",
       "      <td>Super Mario Bros.</td>\n",
       "      <td>NES</td>\n",
       "      <td>1985</td>\n",
       "      <td>Platform</td>\n",
       "      <td>Nintendo</td>\n",
       "      <td>29.08</td>\n",
       "      <td>3.58</td>\n",
       "      <td>6.81</td>\n",
       "      <td>0.77</td>\n",
       "      <td>40.24</td>\n",
       "      <td>0.006720</td>\n",
       "      <td>NA</td>\n",
       "      <td>High</td>\n",
       "      <td>Low</td>\n",
       "      <td>Medium</td>\n",
       "      <td>Low</td>\n",
       "      <td>Medium</td>\n",
       "    </tr>\n",
       "    <tr>\n",
       "      <td>2</td>\n",
       "      <td>3</td>\n",
       "      <td>Mario Kart Wii</td>\n",
       "      <td>Wii</td>\n",
       "      <td>2008</td>\n",
       "      <td>Racing</td>\n",
       "      <td>Nintendo</td>\n",
       "      <td>15.85</td>\n",
       "      <td>12.88</td>\n",
       "      <td>3.79</td>\n",
       "      <td>3.31</td>\n",
       "      <td>35.82</td>\n",
       "      <td>0.005352</td>\n",
       "      <td>EU</td>\n",
       "      <td>Medium</td>\n",
       "      <td>Medium</td>\n",
       "      <td>Medium</td>\n",
       "      <td>Low</td>\n",
       "      <td>Medium</td>\n",
       "    </tr>\n",
       "    <tr>\n",
       "      <td>3</td>\n",
       "      <td>4</td>\n",
       "      <td>Wii Sports Resort</td>\n",
       "      <td>Wii</td>\n",
       "      <td>2009</td>\n",
       "      <td>Sports</td>\n",
       "      <td>Nintendo</td>\n",
       "      <td>15.75</td>\n",
       "      <td>11.01</td>\n",
       "      <td>3.28</td>\n",
       "      <td>2.96</td>\n",
       "      <td>33.00</td>\n",
       "      <td>0.004575</td>\n",
       "      <td>EU</td>\n",
       "      <td>Medium</td>\n",
       "      <td>Medium</td>\n",
       "      <td>Low</td>\n",
       "      <td>Low</td>\n",
       "      <td>Medium</td>\n",
       "    </tr>\n",
       "    <tr>\n",
       "      <td>4</td>\n",
       "      <td>5</td>\n",
       "      <td>Pokemon Red/Pokemon Blue</td>\n",
       "      <td>GB</td>\n",
       "      <td>1996</td>\n",
       "      <td>Role-Playing</td>\n",
       "      <td>Nintendo</td>\n",
       "      <td>11.27</td>\n",
       "      <td>8.89</td>\n",
       "      <td>10.22</td>\n",
       "      <td>1.00</td>\n",
       "      <td>31.37</td>\n",
       "      <td>0.007958</td>\n",
       "      <td>JP</td>\n",
       "      <td>Low</td>\n",
       "      <td>Low</td>\n",
       "      <td>High</td>\n",
       "      <td>Low</td>\n",
       "      <td>Medium</td>\n",
       "    </tr>\n",
       "    <tr>\n",
       "      <td>5</td>\n",
       "      <td>6</td>\n",
       "      <td>Tetris</td>\n",
       "      <td>GB</td>\n",
       "      <td>1989</td>\n",
       "      <td>Puzzle</td>\n",
       "      <td>Nintendo</td>\n",
       "      <td>23.20</td>\n",
       "      <td>2.26</td>\n",
       "      <td>4.22</td>\n",
       "      <td>0.58</td>\n",
       "      <td>30.26</td>\n",
       "      <td>0.005361</td>\n",
       "      <td>NA</td>\n",
       "      <td>Medium</td>\n",
       "      <td>Low</td>\n",
       "      <td>Medium</td>\n",
       "      <td>Low</td>\n",
       "      <td>Medium</td>\n",
       "    </tr>\n",
       "    <tr>\n",
       "      <td>6</td>\n",
       "      <td>7</td>\n",
       "      <td>New Super Mario Bros.</td>\n",
       "      <td>DS</td>\n",
       "      <td>2006</td>\n",
       "      <td>Platform</td>\n",
       "      <td>Nintendo</td>\n",
       "      <td>11.38</td>\n",
       "      <td>9.23</td>\n",
       "      <td>6.50</td>\n",
       "      <td>2.90</td>\n",
       "      <td>30.01</td>\n",
       "      <td>0.005061</td>\n",
       "      <td>JP</td>\n",
       "      <td>Low</td>\n",
       "      <td>Low</td>\n",
       "      <td>Medium</td>\n",
       "      <td>Low</td>\n",
       "      <td>Medium</td>\n",
       "    </tr>\n",
       "    <tr>\n",
       "      <td>7</td>\n",
       "      <td>8</td>\n",
       "      <td>Wii Play</td>\n",
       "      <td>Wii</td>\n",
       "      <td>2006</td>\n",
       "      <td>Misc</td>\n",
       "      <td>Nintendo</td>\n",
       "      <td>14.03</td>\n",
       "      <td>9.20</td>\n",
       "      <td>2.93</td>\n",
       "      <td>2.85</td>\n",
       "      <td>29.02</td>\n",
       "      <td>0.003823</td>\n",
       "      <td>EU</td>\n",
       "      <td>Medium</td>\n",
       "      <td>Low</td>\n",
       "      <td>Low</td>\n",
       "      <td>Low</td>\n",
       "      <td>Medium</td>\n",
       "    </tr>\n",
       "    <tr>\n",
       "      <td>8</td>\n",
       "      <td>9</td>\n",
       "      <td>New Super Mario Bros. Wii</td>\n",
       "      <td>Wii</td>\n",
       "      <td>2009</td>\n",
       "      <td>Platform</td>\n",
       "      <td>Nintendo</td>\n",
       "      <td>14.59</td>\n",
       "      <td>7.06</td>\n",
       "      <td>4.70</td>\n",
       "      <td>2.26</td>\n",
       "      <td>28.62</td>\n",
       "      <td>0.003660</td>\n",
       "      <td>JP</td>\n",
       "      <td>Medium</td>\n",
       "      <td>Low</td>\n",
       "      <td>Medium</td>\n",
       "      <td>Low</td>\n",
       "      <td>Medium</td>\n",
       "    </tr>\n",
       "    <tr>\n",
       "      <td>9</td>\n",
       "      <td>10</td>\n",
       "      <td>Duck Hunt</td>\n",
       "      <td>NES</td>\n",
       "      <td>1984</td>\n",
       "      <td>Shooter</td>\n",
       "      <td>Nintendo</td>\n",
       "      <td>26.93</td>\n",
       "      <td>0.63</td>\n",
       "      <td>0.28</td>\n",
       "      <td>0.47</td>\n",
       "      <td>28.31</td>\n",
       "      <td>0.006223</td>\n",
       "      <td>NA</td>\n",
       "      <td>Medium</td>\n",
       "      <td>Low</td>\n",
       "      <td>Low</td>\n",
       "      <td>Low</td>\n",
       "      <td>Medium</td>\n",
       "    </tr>\n",
       "  </tbody>\n",
       "</table>\n",
       "</div>"
      ],
      "text/plain": [
       "   Rank                       Name Platform  Year         Genre Publisher  \\\n",
       "0     1                 Wii Sports      Wii  2006        Sports  Nintendo   \n",
       "1     2          Super Mario Bros.      NES  1985      Platform  Nintendo   \n",
       "2     3             Mario Kart Wii      Wii  2008        Racing  Nintendo   \n",
       "3     4          Wii Sports Resort      Wii  2009        Sports  Nintendo   \n",
       "4     5   Pokemon Red/Pokemon Blue       GB  1996  Role-Playing  Nintendo   \n",
       "5     6                     Tetris       GB  1989        Puzzle  Nintendo   \n",
       "6     7      New Super Mario Bros.       DS  2006      Platform  Nintendo   \n",
       "7     8                   Wii Play      Wii  2006          Misc  Nintendo   \n",
       "8     9  New Super Mario Bros. Wii      Wii  2009      Platform  Nintendo   \n",
       "9    10                  Duck Hunt      NES  1984       Shooter  Nintendo   \n",
       "\n",
       "   NA_Sales  EU_Sales  JP_Sales  Other_Sales  Global_Sales  \\\n",
       "0     41.49     29.02      3.77         8.46         82.74   \n",
       "1     29.08      3.58      6.81         0.77         40.24   \n",
       "2     15.85     12.88      3.79         3.31         35.82   \n",
       "3     15.75     11.01      3.28         2.96         33.00   \n",
       "4     11.27      8.89     10.22         1.00         31.37   \n",
       "5     23.20      2.26      4.22         0.58         30.26   \n",
       "6     11.38      9.23      6.50         2.90         30.01   \n",
       "7     14.03      9.20      2.93         2.85         29.02   \n",
       "8     14.59      7.06      4.70         2.26         28.62   \n",
       "9     26.93      0.63      0.28         0.47         28.31   \n",
       "\n",
       "   Biggest Sales(Percentage) Biggest Sales Area(Percentage) NA_Sales-binned  \\\n",
       "0                   0.012058                             EU            High   \n",
       "1                   0.006720                             NA            High   \n",
       "2                   0.005352                             EU          Medium   \n",
       "3                   0.004575                             EU          Medium   \n",
       "4                   0.007958                             JP             Low   \n",
       "5                   0.005361                             NA          Medium   \n",
       "6                   0.005061                             JP             Low   \n",
       "7                   0.003823                             EU          Medium   \n",
       "8                   0.003660                             JP          Medium   \n",
       "9                   0.006223                             NA          Medium   \n",
       "\n",
       "  EU_Sales-binned JP_Sales-binned Other_Sales-binned Global_Sales-binned  \n",
       "0            High          Medium               High                High  \n",
       "1             Low          Medium                Low              Medium  \n",
       "2          Medium          Medium                Low              Medium  \n",
       "3          Medium             Low                Low              Medium  \n",
       "4             Low            High                Low              Medium  \n",
       "5             Low          Medium                Low              Medium  \n",
       "6             Low          Medium                Low              Medium  \n",
       "7             Low             Low                Low              Medium  \n",
       "8             Low          Medium                Low              Medium  \n",
       "9             Low             Low                Low              Medium  "
      ]
     },
     "execution_count": 32,
     "metadata": {},
     "output_type": "execute_result"
    }
   ],
   "source": [
    "# Hasil penambahan fitur\n",
    "vgs_data.head(10)"
   ]
  },
  {
   "cell_type": "markdown",
   "metadata": {
    "id": "6fwAlOq8Xa6V"
   },
   "source": [
    "## *Exploratory Data Analysis*"
   ]
  },
  {
   "cell_type": "markdown",
   "metadata": {
    "id": "68xyvtO6ZYsD"
   },
   "source": [
    "### Individual Feature"
   ]
  },
  {
   "cell_type": "markdown",
   "metadata": {
    "id": "qOsO3Et9aHnj"
   },
   "source": [
    "Tipe data dari setiap kolom dapat dilihat di bawah ini"
   ]
  },
  {
   "cell_type": "code",
   "execution_count": 33,
   "metadata": {
    "colab": {
     "base_uri": "https://localhost:8080/"
    },
    "id": "oP3WqXx_ZmwC",
    "outputId": "c6fe896c-f85f-4615-ee09-bb39a321e42a"
   },
   "outputs": [
    {
     "data": {
      "text/plain": [
       "Rank                                 int64\n",
       "Name                                object\n",
       "Platform                            object\n",
       "Year                                 int64\n",
       "Genre                               object\n",
       "Publisher                           object\n",
       "NA_Sales                           float64\n",
       "EU_Sales                           float64\n",
       "JP_Sales                           float64\n",
       "Other_Sales                        float64\n",
       "Global_Sales                       float64\n",
       "Biggest Sales(Percentage)          float64\n",
       "Biggest Sales Area(Percentage)      object\n",
       "NA_Sales-binned                   category\n",
       "EU_Sales-binned                   category\n",
       "JP_Sales-binned                   category\n",
       "Other_Sales-binned                category\n",
       "Global_Sales-binned               category\n",
       "dtype: object"
      ]
     },
     "execution_count": 33,
     "metadata": {},
     "output_type": "execute_result"
    }
   ],
   "source": [
    "vgs_data.dtypes"
   ]
  },
  {
   "cell_type": "markdown",
   "metadata": {
    "id": "dUX6-3ByabLD"
   },
   "source": [
    "Korelasi data(int64/ float64) antar kolom dapat dilihat di bawah ini"
   ]
  },
  {
   "cell_type": "code",
   "execution_count": 34,
   "metadata": {
    "colab": {
     "base_uri": "https://localhost:8080/"
    },
    "id": "bkbOpHnbaoK_",
    "outputId": "ce1ef0bd-7eb4-4832-87b7-50119da29ed4"
   },
   "outputs": [
    {
     "data": {
      "text/html": [
       "<div>\n",
       "<style scoped>\n",
       "    .dataframe tbody tr th:only-of-type {\n",
       "        vertical-align: middle;\n",
       "    }\n",
       "\n",
       "    .dataframe tbody tr th {\n",
       "        vertical-align: top;\n",
       "    }\n",
       "\n",
       "    .dataframe thead th {\n",
       "        text-align: right;\n",
       "    }\n",
       "</style>\n",
       "<table border=\"1\" class=\"dataframe\">\n",
       "  <thead>\n",
       "    <tr style=\"text-align: right;\">\n",
       "      <th></th>\n",
       "      <th>Rank</th>\n",
       "      <th>Year</th>\n",
       "      <th>NA_Sales</th>\n",
       "      <th>EU_Sales</th>\n",
       "      <th>JP_Sales</th>\n",
       "      <th>Other_Sales</th>\n",
       "      <th>Global_Sales</th>\n",
       "      <th>Biggest Sales(Percentage)</th>\n",
       "    </tr>\n",
       "  </thead>\n",
       "  <tbody>\n",
       "    <tr>\n",
       "      <td>Rank</td>\n",
       "      <td>1.000000</td>\n",
       "      <td>0.178027</td>\n",
       "      <td>-0.400315</td>\n",
       "      <td>-0.379137</td>\n",
       "      <td>-0.269323</td>\n",
       "      <td>-0.332735</td>\n",
       "      <td>-0.426975</td>\n",
       "      <td>-0.437210</td>\n",
       "    </tr>\n",
       "    <tr>\n",
       "      <td>Year</td>\n",
       "      <td>0.178027</td>\n",
       "      <td>1.000000</td>\n",
       "      <td>-0.091285</td>\n",
       "      <td>0.006108</td>\n",
       "      <td>-0.169387</td>\n",
       "      <td>0.041128</td>\n",
       "      <td>-0.074647</td>\n",
       "      <td>-0.118688</td>\n",
       "    </tr>\n",
       "    <tr>\n",
       "      <td>NA_Sales</td>\n",
       "      <td>-0.400315</td>\n",
       "      <td>-0.091285</td>\n",
       "      <td>1.000000</td>\n",
       "      <td>0.768923</td>\n",
       "      <td>0.451283</td>\n",
       "      <td>0.634518</td>\n",
       "      <td>0.941269</td>\n",
       "      <td>0.740235</td>\n",
       "    </tr>\n",
       "    <tr>\n",
       "      <td>EU_Sales</td>\n",
       "      <td>-0.379137</td>\n",
       "      <td>0.006108</td>\n",
       "      <td>0.768923</td>\n",
       "      <td>1.000000</td>\n",
       "      <td>0.436379</td>\n",
       "      <td>0.726256</td>\n",
       "      <td>0.903264</td>\n",
       "      <td>0.721004</td>\n",
       "    </tr>\n",
       "    <tr>\n",
       "      <td>JP_Sales</td>\n",
       "      <td>-0.269323</td>\n",
       "      <td>-0.169387</td>\n",
       "      <td>0.451283</td>\n",
       "      <td>0.436379</td>\n",
       "      <td>1.000000</td>\n",
       "      <td>0.290559</td>\n",
       "      <td>0.612774</td>\n",
       "      <td>0.743704</td>\n",
       "    </tr>\n",
       "    <tr>\n",
       "      <td>Other_Sales</td>\n",
       "      <td>-0.332735</td>\n",
       "      <td>0.041128</td>\n",
       "      <td>0.634518</td>\n",
       "      <td>0.726256</td>\n",
       "      <td>0.290559</td>\n",
       "      <td>1.000000</td>\n",
       "      <td>0.747964</td>\n",
       "      <td>0.795991</td>\n",
       "    </tr>\n",
       "    <tr>\n",
       "      <td>Global_Sales</td>\n",
       "      <td>-0.426975</td>\n",
       "      <td>-0.074647</td>\n",
       "      <td>0.941269</td>\n",
       "      <td>0.903264</td>\n",
       "      <td>0.612774</td>\n",
       "      <td>0.747964</td>\n",
       "      <td>1.000000</td>\n",
       "      <td>0.867162</td>\n",
       "    </tr>\n",
       "    <tr>\n",
       "      <td>Biggest Sales(Percentage)</td>\n",
       "      <td>-0.437210</td>\n",
       "      <td>-0.118688</td>\n",
       "      <td>0.740235</td>\n",
       "      <td>0.721004</td>\n",
       "      <td>0.743704</td>\n",
       "      <td>0.795991</td>\n",
       "      <td>0.867162</td>\n",
       "      <td>1.000000</td>\n",
       "    </tr>\n",
       "  </tbody>\n",
       "</table>\n",
       "</div>"
      ],
      "text/plain": [
       "                               Rank      Year  NA_Sales  EU_Sales  JP_Sales  \\\n",
       "Rank                       1.000000  0.178027 -0.400315 -0.379137 -0.269323   \n",
       "Year                       0.178027  1.000000 -0.091285  0.006108 -0.169387   \n",
       "NA_Sales                  -0.400315 -0.091285  1.000000  0.768923  0.451283   \n",
       "EU_Sales                  -0.379137  0.006108  0.768923  1.000000  0.436379   \n",
       "JP_Sales                  -0.269323 -0.169387  0.451283  0.436379  1.000000   \n",
       "Other_Sales               -0.332735  0.041128  0.634518  0.726256  0.290559   \n",
       "Global_Sales              -0.426975 -0.074647  0.941269  0.903264  0.612774   \n",
       "Biggest Sales(Percentage) -0.437210 -0.118688  0.740235  0.721004  0.743704   \n",
       "\n",
       "                           Other_Sales  Global_Sales  \\\n",
       "Rank                         -0.332735     -0.426975   \n",
       "Year                          0.041128     -0.074647   \n",
       "NA_Sales                      0.634518      0.941269   \n",
       "EU_Sales                      0.726256      0.903264   \n",
       "JP_Sales                      0.290559      0.612774   \n",
       "Other_Sales                   1.000000      0.747964   \n",
       "Global_Sales                  0.747964      1.000000   \n",
       "Biggest Sales(Percentage)     0.795991      0.867162   \n",
       "\n",
       "                           Biggest Sales(Percentage)  \n",
       "Rank                                       -0.437210  \n",
       "Year                                       -0.118688  \n",
       "NA_Sales                                    0.740235  \n",
       "EU_Sales                                    0.721004  \n",
       "JP_Sales                                    0.743704  \n",
       "Other_Sales                                 0.795991  \n",
       "Global_Sales                                0.867162  \n",
       "Biggest Sales(Percentage)                   1.000000  "
      ]
     },
     "execution_count": 34,
     "metadata": {},
     "output_type": "execute_result"
    }
   ],
   "source": [
    "vgs_data.corr()"
   ]
  },
  {
   "cell_type": "markdown",
   "metadata": {
    "id": "O5qaAh4sjE6X"
   },
   "source": [
    "#### Analisis data kontinu"
   ]
  },
  {
   "cell_type": "markdown",
   "metadata": {
    "id": "MwwtVjWlbGWy"
   },
   "source": [
    "Data yang bersifat kontinu pada tabel adalah data tahun (1980 - 2020)\n",
    "\n",
    "Di bawah ini, akan dilihat korelasi antar data tahun dengan setiap data penjualan menggunakan scatterplot"
   ]
  },
  {
   "cell_type": "markdown",
   "metadata": {
    "id": "VQFHIlOybz9g"
   },
   "source": [
    "Year vs NA_Sales"
   ]
  },
  {
   "cell_type": "code",
   "execution_count": 35,
   "metadata": {
    "colab": {
     "base_uri": "https://localhost:8080/"
    },
    "id": "AHZP6MurbFs9",
    "outputId": "4c35d1ff-f071-4777-ca0a-f4b128a2d128"
   },
   "outputs": [
    {
     "data": {
      "text/plain": [
       "<matplotlib.axes._subplots.AxesSubplot at 0x2730e811d48>"
      ]
     },
     "execution_count": 35,
     "metadata": {},
     "output_type": "execute_result"
    },
    {
     "data": {
      "image/png": "[encoded data removed]",
      "text/plain": [
       "<Figure size 432x288 with 1 Axes>"
      ]
     },
     "metadata": {
      "needs_background": "light"
     },
     "output_type": "display_data"
    }
   ],
   "source": [
    "sns.regplot(x=\"Year\", y=\"NA_Sales\", data=vgs_data)"
   ]
  },
  {
   "cell_type": "markdown",
   "metadata": {
    "id": "YZqLz0oId1VB"
   },
   "source": [
    "Year vs EU_Sales"
   ]
  },
  {
   "cell_type": "code",
   "execution_count": 36,
   "metadata": {
    "colab": {
     "base_uri": "https://localhost:8080/"
    },
    "id": "s12w6VIrcpvh",
    "outputId": "357bd7c7-5319-4c83-98a1-03790edf8c0c"
   },
   "outputs": [
    {
     "data": {
      "text/plain": [
       "<matplotlib.axes._subplots.AxesSubplot at 0x2730cf16108>"
      ]
     },
     "execution_count": 36,
     "metadata": {},
     "output_type": "execute_result"
    },
    {
     "data": {
      "image/png": "[encoded data removed]",
      "text/plain": [
       "<Figure size 432x288 with 1 Axes>"
      ]
     },
     "metadata": {
      "needs_background": "light"
     },
     "output_type": "display_data"
    }
   ],
   "source": [
    "sns.regplot(x=\"Year\", y=\"EU_Sales\", data=vgs_data)"
   ]
  },
  {
   "cell_type": "markdown",
   "metadata": {
    "id": "zvTRp2LVd39H"
   },
   "source": [
    "Year vs JP_Sales"
   ]
  },
  {
   "cell_type": "code",
   "execution_count": 37,
   "metadata": {
    "colab": {
     "base_uri": "https://localhost:8080/"
    },
    "id": "PWRK1b6ScsBe",
    "outputId": "ad9cd9fd-ec23-4aea-c9d6-fe267dd76f22"
   },
   "outputs": [
    {
     "data": {
      "text/plain": [
       "<matplotlib.axes._subplots.AxesSubplot at 0x2730fd09e48>"
      ]
     },
     "execution_count": 37,
     "metadata": {},
     "output_type": "execute_result"
    },
    {
     "data": {
      "image/png": "[encoded data removed]",
      "text/plain": [
       "<Figure size 432x288 with 1 Axes>"
      ]
     },
     "metadata": {
      "needs_background": "light"
     },
     "output_type": "display_data"
    }
   ],
   "source": [
    "sns.regplot(x=\"Year\", y=\"JP_Sales\", data=vgs_data)"
   ]
  },
  {
   "cell_type": "markdown",
   "metadata": {
    "id": "djzfLJx9d47n"
   },
   "source": [
    "Year vs Other_Sales"
   ]
  },
  {
   "cell_type": "code",
   "execution_count": 38,
   "metadata": {
    "colab": {
     "base_uri": "https://localhost:8080/"
    },
    "id": "OqK389xLcrxO",
    "outputId": "bfbde738-6d47-4655-8276-264a6c9225da"
   },
   "outputs": [
    {
     "data": {
      "text/plain": [
       "<matplotlib.axes._subplots.AxesSubplot at 0x2730fd728c8>"
      ]
     },
     "execution_count": 38,
     "metadata": {},
     "output_type": "execute_result"
    },
    {
     "data": {
      "image/png": "[encoded data removed]",
      "text/plain": [
       "<Figure size 432x288 with 1 Axes>"
      ]
     },
     "metadata": {
      "needs_background": "light"
     },
     "output_type": "display_data"
    }
   ],
   "source": [
    "sns.regplot(x=\"Year\", y=\"Other_Sales\", data=vgs_data)"
   ]
  },
  {
   "cell_type": "markdown",
   "metadata": {
    "id": "LADyaNsfd51V"
   },
   "source": [
    "Year vs Global_Sales"
   ]
  },
  {
   "cell_type": "code",
   "execution_count": 39,
   "metadata": {
    "colab": {
     "base_uri": "https://localhost:8080/"
    },
    "id": "N7n1R1aRcpc0",
    "outputId": "345e1fba-428b-40f2-8ca9-7d253f8577c7"
   },
   "outputs": [
    {
     "data": {
      "text/plain": [
       "<matplotlib.axes._subplots.AxesSubplot at 0x2730fdc6508>"
      ]
     },
     "execution_count": 39,
     "metadata": {},
     "output_type": "execute_result"
    },
    {
     "data": {
      "image/png": "[encoded data removed]",
      "text/plain": [
       "<Figure size 432x288 with 1 Axes>"
      ]
     },
     "metadata": {
      "needs_background": "light"
     },
     "output_type": "display_data"
    }
   ],
   "source": [
    "sns.regplot(x=\"Year\", y=\"Global_Sales\", data=vgs_data)"
   ]
  },
  {
   "cell_type": "markdown",
   "metadata": {
    "id": "bADeFROPeqM0"
   },
   "source": [
    "Dapat dilihat bahwa year memiliki weak linear relationship dengan sales, dikarenakan garis yang terbentuk mendekati sudut horizontal."
   ]
  },
  {
   "cell_type": "markdown",
   "metadata": {
    "id": "eZ2Kk9tFgb5x"
   },
   "source": [
    "### Statistical Analysis for Descriptive Data"
   ]
  },
  {
   "cell_type": "markdown",
   "metadata": {
    "id": "tZ6Vo4KcmyET"
   },
   "source": [
    "Penjelasan data yang bertipe object"
   ]
  },
  {
   "cell_type": "code",
   "execution_count": 40,
   "metadata": {
    "colab": {
     "base_uri": "https://localhost:8080/"
    },
    "id": "c3XSQ7JlgYPl",
    "outputId": "7feb630e-b693-431b-9099-77e85c81ed06"
   },
   "outputs": [
    {
     "data": {
      "text/html": [
       "<div>\n",
       "<style scoped>\n",
       "    .dataframe tbody tr th:only-of-type {\n",
       "        vertical-align: middle;\n",
       "    }\n",
       "\n",
       "    .dataframe tbody tr th {\n",
       "        vertical-align: top;\n",
       "    }\n",
       "\n",
       "    .dataframe thead th {\n",
       "        text-align: right;\n",
       "    }\n",
       "</style>\n",
       "<table border=\"1\" class=\"dataframe\">\n",
       "  <thead>\n",
       "    <tr style=\"text-align: right;\">\n",
       "      <th></th>\n",
       "      <th>Name</th>\n",
       "      <th>Platform</th>\n",
       "      <th>Genre</th>\n",
       "      <th>Publisher</th>\n",
       "      <th>Biggest Sales Area(Percentage)</th>\n",
       "    </tr>\n",
       "  </thead>\n",
       "  <tbody>\n",
       "    <tr>\n",
       "      <td>count</td>\n",
       "      <td>16291</td>\n",
       "      <td>16291</td>\n",
       "      <td>16291</td>\n",
       "      <td>16291</td>\n",
       "      <td>16291</td>\n",
       "    </tr>\n",
       "    <tr>\n",
       "      <td>unique</td>\n",
       "      <td>11325</td>\n",
       "      <td>31</td>\n",
       "      <td>12</td>\n",
       "      <td>576</td>\n",
       "      <td>5</td>\n",
       "    </tr>\n",
       "    <tr>\n",
       "      <td>top</td>\n",
       "      <td>Need for Speed: Most Wanted</td>\n",
       "      <td>DS</td>\n",
       "      <td>Action</td>\n",
       "      <td>Electronic Arts</td>\n",
       "      <td>NA</td>\n",
       "    </tr>\n",
       "    <tr>\n",
       "      <td>freq</td>\n",
       "      <td>12</td>\n",
       "      <td>2131</td>\n",
       "      <td>3251</td>\n",
       "      <td>1339</td>\n",
       "      <td>6067</td>\n",
       "    </tr>\n",
       "  </tbody>\n",
       "</table>\n",
       "</div>"
      ],
      "text/plain": [
       "                               Name Platform   Genre        Publisher  \\\n",
       "count                         16291    16291   16291            16291   \n",
       "unique                        11325       31      12              576   \n",
       "top     Need for Speed: Most Wanted       DS  Action  Electronic Arts   \n",
       "freq                             12     2131    3251             1339   \n",
       "\n",
       "       Biggest Sales Area(Percentage)  \n",
       "count                           16291  \n",
       "unique                              5  \n",
       "top                                NA  \n",
       "freq                             6067  "
      ]
     },
     "execution_count": 40,
     "metadata": {},
     "output_type": "execute_result"
    }
   ],
   "source": [
    "vgs_data.describe(include=['object'])"
   ]
  },
  {
   "cell_type": "markdown",
   "metadata": {
    "id": "VpCQm9oxm5t4"
   },
   "source": [
    "Jenis data yang ada pada platform (5 data dengan jumlah muncul paling banyak)"
   ]
  },
  {
   "cell_type": "code",
   "execution_count": 41,
   "metadata": {
    "colab": {
     "base_uri": "https://localhost:8080/"
    },
    "id": "1MHgIYHcn0l9",
    "outputId": "cef6d365-128c-4ef1-f550-591607f396d0"
   },
   "outputs": [
    {
     "data": {
      "text/html": [
       "<div>\n",
       "<style scoped>\n",
       "    .dataframe tbody tr th:only-of-type {\n",
       "        vertical-align: middle;\n",
       "    }\n",
       "\n",
       "    .dataframe tbody tr th {\n",
       "        vertical-align: top;\n",
       "    }\n",
       "\n",
       "    .dataframe thead th {\n",
       "        text-align: right;\n",
       "    }\n",
       "</style>\n",
       "<table border=\"1\" class=\"dataframe\">\n",
       "  <thead>\n",
       "    <tr style=\"text-align: right;\">\n",
       "      <th></th>\n",
       "      <th>value_counts</th>\n",
       "    </tr>\n",
       "    <tr>\n",
       "      <th>Platform</th>\n",
       "      <th></th>\n",
       "    </tr>\n",
       "  </thead>\n",
       "  <tbody>\n",
       "    <tr>\n",
       "      <td>DS</td>\n",
       "      <td>2131</td>\n",
       "    </tr>\n",
       "    <tr>\n",
       "      <td>PS2</td>\n",
       "      <td>2127</td>\n",
       "    </tr>\n",
       "    <tr>\n",
       "      <td>PS3</td>\n",
       "      <td>1304</td>\n",
       "    </tr>\n",
       "    <tr>\n",
       "      <td>Wii</td>\n",
       "      <td>1290</td>\n",
       "    </tr>\n",
       "    <tr>\n",
       "      <td>X360</td>\n",
       "      <td>1234</td>\n",
       "    </tr>\n",
       "  </tbody>\n",
       "</table>\n",
       "</div>"
      ],
      "text/plain": [
       "          value_counts\n",
       "Platform              \n",
       "DS                2131\n",
       "PS2               2127\n",
       "PS3               1304\n",
       "Wii               1290\n",
       "X360              1234"
      ]
     },
     "execution_count": 41,
     "metadata": {},
     "output_type": "execute_result"
    }
   ],
   "source": [
    "platform_counts = vgs_data['Platform'].value_counts().to_frame()\n",
    "platform_counts.rename(columns={'Platform': 'value_counts'}, inplace=True)\n",
    "platform_counts.index.name = 'Platform'\n",
    "platform_counts.head(5)"
   ]
  },
  {
   "cell_type": "markdown",
   "metadata": {
    "id": "Wzl3AbBqow2a"
   },
   "source": [
    "Jenis data yang ada pada genre (5 data dengan jumlah muncul paling banyak)"
   ]
  },
  {
   "cell_type": "code",
   "execution_count": 42,
   "metadata": {
    "colab": {
     "base_uri": "https://localhost:8080/"
    },
    "id": "bT_UjNwHo2BT",
    "outputId": "5eedd80d-d53b-40b8-bb21-abd3045e5b52"
   },
   "outputs": [
    {
     "data": {
      "text/html": [
       "<div>\n",
       "<style scoped>\n",
       "    .dataframe tbody tr th:only-of-type {\n",
       "        vertical-align: middle;\n",
       "    }\n",
       "\n",
       "    .dataframe tbody tr th {\n",
       "        vertical-align: top;\n",
       "    }\n",
       "\n",
       "    .dataframe thead th {\n",
       "        text-align: right;\n",
       "    }\n",
       "</style>\n",
       "<table border=\"1\" class=\"dataframe\">\n",
       "  <thead>\n",
       "    <tr style=\"text-align: right;\">\n",
       "      <th></th>\n",
       "      <th>value_counts</th>\n",
       "    </tr>\n",
       "    <tr>\n",
       "      <th>Genre</th>\n",
       "      <th></th>\n",
       "    </tr>\n",
       "  </thead>\n",
       "  <tbody>\n",
       "    <tr>\n",
       "      <td>Action</td>\n",
       "      <td>3251</td>\n",
       "    </tr>\n",
       "    <tr>\n",
       "      <td>Sports</td>\n",
       "      <td>2304</td>\n",
       "    </tr>\n",
       "    <tr>\n",
       "      <td>Misc</td>\n",
       "      <td>1686</td>\n",
       "    </tr>\n",
       "    <tr>\n",
       "      <td>Role-Playing</td>\n",
       "      <td>1470</td>\n",
       "    </tr>\n",
       "    <tr>\n",
       "      <td>Shooter</td>\n",
       "      <td>1282</td>\n",
       "    </tr>\n",
       "  </tbody>\n",
       "</table>\n",
       "</div>"
      ],
      "text/plain": [
       "              value_counts\n",
       "Genre                     \n",
       "Action                3251\n",
       "Sports                2304\n",
       "Misc                  1686\n",
       "Role-Playing          1470\n",
       "Shooter               1282"
      ]
     },
     "execution_count": 42,
     "metadata": {},
     "output_type": "execute_result"
    }
   ],
   "source": [
    "genre_counts = vgs_data['Genre'].value_counts().to_frame()\n",
    "genre_counts.rename(columns={'Genre': 'value_counts'}, inplace=True)\n",
    "genre_counts.index.name = 'Genre'\n",
    "genre_counts.head(5)"
   ]
  },
  {
   "cell_type": "markdown",
   "metadata": {
    "id": "pjGloQw5y3Dv"
   },
   "source": [
    "Jenis data yang ada pada publisher (5 data dengan jumlah muncul paling banyak)"
   ]
  },
  {
   "cell_type": "code",
   "execution_count": 43,
   "metadata": {
    "colab": {
     "base_uri": "https://localhost:8080/"
    },
    "id": "ZuqWgXvozCSg",
    "outputId": "d4e8e66f-483c-4459-8a54-7209c077821d"
   },
   "outputs": [
    {
     "data": {
      "text/html": [
       "<div>\n",
       "<style scoped>\n",
       "    .dataframe tbody tr th:only-of-type {\n",
       "        vertical-align: middle;\n",
       "    }\n",
       "\n",
       "    .dataframe tbody tr th {\n",
       "        vertical-align: top;\n",
       "    }\n",
       "\n",
       "    .dataframe thead th {\n",
       "        text-align: right;\n",
       "    }\n",
       "</style>\n",
       "<table border=\"1\" class=\"dataframe\">\n",
       "  <thead>\n",
       "    <tr style=\"text-align: right;\">\n",
       "      <th></th>\n",
       "      <th>value_counts</th>\n",
       "    </tr>\n",
       "    <tr>\n",
       "      <th>Publisher</th>\n",
       "      <th></th>\n",
       "    </tr>\n",
       "  </thead>\n",
       "  <tbody>\n",
       "    <tr>\n",
       "      <td>Electronic Arts</td>\n",
       "      <td>1339</td>\n",
       "    </tr>\n",
       "    <tr>\n",
       "      <td>Activision</td>\n",
       "      <td>966</td>\n",
       "    </tr>\n",
       "    <tr>\n",
       "      <td>Namco Bandai Games</td>\n",
       "      <td>928</td>\n",
       "    </tr>\n",
       "    <tr>\n",
       "      <td>Ubisoft</td>\n",
       "      <td>918</td>\n",
       "    </tr>\n",
       "    <tr>\n",
       "      <td>Konami Digital Entertainment</td>\n",
       "      <td>823</td>\n",
       "    </tr>\n",
       "  </tbody>\n",
       "</table>\n",
       "</div>"
      ],
      "text/plain": [
       "                              value_counts\n",
       "Publisher                                 \n",
       "Electronic Arts                       1339\n",
       "Activision                             966\n",
       "Namco Bandai Games                     928\n",
       "Ubisoft                                918\n",
       "Konami Digital Entertainment           823"
      ]
     },
     "execution_count": 43,
     "metadata": {},
     "output_type": "execute_result"
    }
   ],
   "source": [
    "publisher_counts = vgs_data['Publisher'].value_counts().to_frame()\n",
    "publisher_counts.rename(columns={'Publisher': 'value_counts'}, inplace=True)\n",
    "publisher_counts.index.name = 'Publisher'\n",
    "publisher_counts.head(5)"
   ]
  },
  {
   "cell_type": "markdown",
   "metadata": {
    "id": "2f393u6prvCm"
   },
   "source": [
    "### Grouping"
   ]
  },
  {
   "cell_type": "markdown",
   "metadata": {
    "id": "QJ9Be0G3r1-z"
   },
   "source": [
    "Pada bagian ini, akan dilakukan grouping antara kolom platform, publisher dan genre terhadap kolom sales, untuk melihat nilai rata-rata sales dalam setiap platform, publisher dan genre"
   ]
  },
  {
   "cell_type": "markdown",
   "metadata": {
    "id": "P6uGshNas0kj"
   },
   "source": [
    "Untuk kolom genre, rata-rata sales dari 5 data teratas :"
   ]
  },
  {
   "cell_type": "code",
   "execution_count": 44,
   "metadata": {
    "colab": {
     "base_uri": "https://localhost:8080/"
    },
    "id": "wPW4Tb6Os2WT",
    "outputId": "572cd474-d1a6-473f-99f7-38ae61388582"
   },
   "outputs": [
    {
     "data": {
      "text/html": [
       "<div>\n",
       "<style scoped>\n",
       "    .dataframe tbody tr th:only-of-type {\n",
       "        vertical-align: middle;\n",
       "    }\n",
       "\n",
       "    .dataframe tbody tr th {\n",
       "        vertical-align: top;\n",
       "    }\n",
       "\n",
       "    .dataframe thead th {\n",
       "        text-align: right;\n",
       "    }\n",
       "</style>\n",
       "<table border=\"1\" class=\"dataframe\">\n",
       "  <thead>\n",
       "    <tr style=\"text-align: right;\">\n",
       "      <th></th>\n",
       "      <th>Genre</th>\n",
       "      <th>NA_Sales</th>\n",
       "      <th>EU_Sales</th>\n",
       "      <th>JP_Sales</th>\n",
       "      <th>Other_Sales</th>\n",
       "      <th>Global_Sales</th>\n",
       "    </tr>\n",
       "  </thead>\n",
       "  <tbody>\n",
       "    <tr>\n",
       "      <td>0</td>\n",
       "      <td>Action</td>\n",
       "      <td>0.265078</td>\n",
       "      <td>0.158868</td>\n",
       "      <td>0.048800</td>\n",
       "      <td>0.056881</td>\n",
       "      <td>0.529942</td>\n",
       "    </tr>\n",
       "    <tr>\n",
       "      <td>1</td>\n",
       "      <td>Adventure</td>\n",
       "      <td>0.080008</td>\n",
       "      <td>0.050031</td>\n",
       "      <td>0.040808</td>\n",
       "      <td>0.013108</td>\n",
       "      <td>0.184137</td>\n",
       "    </tr>\n",
       "    <tr>\n",
       "      <td>2</td>\n",
       "      <td>Fighting</td>\n",
       "      <td>0.264043</td>\n",
       "      <td>0.119617</td>\n",
       "      <td>0.104246</td>\n",
       "      <td>0.043289</td>\n",
       "      <td>0.531160</td>\n",
       "    </tr>\n",
       "    <tr>\n",
       "      <td>3</td>\n",
       "      <td>Misc</td>\n",
       "      <td>0.235421</td>\n",
       "      <td>0.125605</td>\n",
       "      <td>0.063268</td>\n",
       "      <td>0.043843</td>\n",
       "      <td>0.468488</td>\n",
       "    </tr>\n",
       "    <tr>\n",
       "      <td>4</td>\n",
       "      <td>Platform</td>\n",
       "      <td>0.509703</td>\n",
       "      <td>0.229314</td>\n",
       "      <td>0.149314</td>\n",
       "      <td>0.058869</td>\n",
       "      <td>0.947577</td>\n",
       "    </tr>\n",
       "  </tbody>\n",
       "</table>\n",
       "</div>"
      ],
      "text/plain": [
       "       Genre  NA_Sales  EU_Sales  JP_Sales  Other_Sales  Global_Sales\n",
       "0     Action  0.265078  0.158868  0.048800     0.056881      0.529942\n",
       "1  Adventure  0.080008  0.050031  0.040808     0.013108      0.184137\n",
       "2   Fighting  0.264043  0.119617  0.104246     0.043289      0.531160\n",
       "3       Misc  0.235421  0.125605  0.063268     0.043843      0.468488\n",
       "4   Platform  0.509703  0.229314  0.149314     0.058869      0.947577"
      ]
     },
     "execution_count": 44,
     "metadata": {},
     "output_type": "execute_result"
    }
   ],
   "source": [
    "df_gptest_genre = vgs_data[['Genre','NA_Sales','EU_Sales','JP_Sales','Other_Sales','Global_Sales']]\n",
    "grouped_test_genre = df_gptest_genre.groupby(['Genre'],as_index=False).mean()\n",
    "grouped_test_genre.head(5)"
   ]
  },
  {
   "cell_type": "markdown",
   "metadata": {
    "id": "7vEMll9LtuF1"
   },
   "source": [
    "Untuk kolom platform, rata-rata sales dari 5 data teratas :"
   ]
  },
  {
   "cell_type": "code",
   "execution_count": 45,
   "metadata": {
    "colab": {
     "base_uri": "https://localhost:8080/"
    },
    "id": "1gmnfkjvtwrN",
    "outputId": "00c63179-cbf9-41d5-ad73-9adbaa4866ce"
   },
   "outputs": [
    {
     "data": {
      "text/html": [
       "<div>\n",
       "<style scoped>\n",
       "    .dataframe tbody tr th:only-of-type {\n",
       "        vertical-align: middle;\n",
       "    }\n",
       "\n",
       "    .dataframe tbody tr th {\n",
       "        vertical-align: top;\n",
       "    }\n",
       "\n",
       "    .dataframe thead th {\n",
       "        text-align: right;\n",
       "    }\n",
       "</style>\n",
       "<table border=\"1\" class=\"dataframe\">\n",
       "  <thead>\n",
       "    <tr style=\"text-align: right;\">\n",
       "      <th></th>\n",
       "      <th>Platform</th>\n",
       "      <th>NA_Sales</th>\n",
       "      <th>EU_Sales</th>\n",
       "      <th>JP_Sales</th>\n",
       "      <th>Other_Sales</th>\n",
       "      <th>Global_Sales</th>\n",
       "    </tr>\n",
       "  </thead>\n",
       "  <tbody>\n",
       "    <tr>\n",
       "      <td>0</td>\n",
       "      <td>2600</td>\n",
       "      <td>0.696379</td>\n",
       "      <td>0.041897</td>\n",
       "      <td>0.000000</td>\n",
       "      <td>0.007241</td>\n",
       "      <td>0.746293</td>\n",
       "    </tr>\n",
       "    <tr>\n",
       "      <td>1</td>\n",
       "      <td>3DO</td>\n",
       "      <td>0.000000</td>\n",
       "      <td>0.000000</td>\n",
       "      <td>0.033333</td>\n",
       "      <td>0.000000</td>\n",
       "      <td>0.033333</td>\n",
       "    </tr>\n",
       "    <tr>\n",
       "      <td>2</td>\n",
       "      <td>3DS</td>\n",
       "      <td>0.156373</td>\n",
       "      <td>0.116814</td>\n",
       "      <td>0.194990</td>\n",
       "      <td>0.025150</td>\n",
       "      <td>0.493527</td>\n",
       "    </tr>\n",
       "    <tr>\n",
       "      <td>3</td>\n",
       "      <td>DC</td>\n",
       "      <td>0.104423</td>\n",
       "      <td>0.032500</td>\n",
       "      <td>0.164615</td>\n",
       "      <td>0.005192</td>\n",
       "      <td>0.307115</td>\n",
       "    </tr>\n",
       "    <tr>\n",
       "      <td>4</td>\n",
       "      <td>DS</td>\n",
       "      <td>0.182323</td>\n",
       "      <td>0.091061</td>\n",
       "      <td>0.082130</td>\n",
       "      <td>0.028292</td>\n",
       "      <td>0.384284</td>\n",
       "    </tr>\n",
       "  </tbody>\n",
       "</table>\n",
       "</div>"
      ],
      "text/plain": [
       "  Platform  NA_Sales  EU_Sales  JP_Sales  Other_Sales  Global_Sales\n",
       "0     2600  0.696379  0.041897  0.000000     0.007241      0.746293\n",
       "1      3DO  0.000000  0.000000  0.033333     0.000000      0.033333\n",
       "2      3DS  0.156373  0.116814  0.194990     0.025150      0.493527\n",
       "3       DC  0.104423  0.032500  0.164615     0.005192      0.307115\n",
       "4       DS  0.182323  0.091061  0.082130     0.028292      0.384284"
      ]
     },
     "execution_count": 45,
     "metadata": {},
     "output_type": "execute_result"
    }
   ],
   "source": [
    "df_gptest_platform = vgs_data[['Platform','NA_Sales','EU_Sales','JP_Sales','Other_Sales','Global_Sales']]\n",
    "grouped_test_platform = df_gptest_platform.groupby(['Platform'],as_index=False).mean()\n",
    "grouped_test_platform.head(5)"
   ]
  },
  {
   "cell_type": "markdown",
   "metadata": {
    "id": "tfqHAYVOzSp7"
   },
   "source": [
    "Untuk kolom publisher, rata-rata sales dari 5 data teratas :"
   ]
  },
  {
   "cell_type": "code",
   "execution_count": 46,
   "metadata": {
    "colab": {
     "base_uri": "https://localhost:8080/"
    },
    "id": "xIfV8IVyzWCv",
    "outputId": "0169e8cc-4996-4cfd-b200-76c369550bc6"
   },
   "outputs": [
    {
     "data": {
      "text/html": [
       "<div>\n",
       "<style scoped>\n",
       "    .dataframe tbody tr th:only-of-type {\n",
       "        vertical-align: middle;\n",
       "    }\n",
       "\n",
       "    .dataframe tbody tr th {\n",
       "        vertical-align: top;\n",
       "    }\n",
       "\n",
       "    .dataframe thead th {\n",
       "        text-align: right;\n",
       "    }\n",
       "</style>\n",
       "<table border=\"1\" class=\"dataframe\">\n",
       "  <thead>\n",
       "    <tr style=\"text-align: right;\">\n",
       "      <th></th>\n",
       "      <th>Publisher</th>\n",
       "      <th>NA_Sales</th>\n",
       "      <th>EU_Sales</th>\n",
       "      <th>JP_Sales</th>\n",
       "      <th>Other_Sales</th>\n",
       "      <th>Global_Sales</th>\n",
       "    </tr>\n",
       "  </thead>\n",
       "  <tbody>\n",
       "    <tr>\n",
       "      <td>0</td>\n",
       "      <td>10TACLE Studios</td>\n",
       "      <td>0.023333</td>\n",
       "      <td>0.013333</td>\n",
       "      <td>0.0</td>\n",
       "      <td>0.000000</td>\n",
       "      <td>0.036667</td>\n",
       "    </tr>\n",
       "    <tr>\n",
       "      <td>1</td>\n",
       "      <td>1C Company</td>\n",
       "      <td>0.003333</td>\n",
       "      <td>0.023333</td>\n",
       "      <td>0.0</td>\n",
       "      <td>0.006667</td>\n",
       "      <td>0.033333</td>\n",
       "    </tr>\n",
       "    <tr>\n",
       "      <td>2</td>\n",
       "      <td>20th Century Fox Video Games</td>\n",
       "      <td>0.364000</td>\n",
       "      <td>0.020000</td>\n",
       "      <td>0.0</td>\n",
       "      <td>0.002000</td>\n",
       "      <td>0.388000</td>\n",
       "    </tr>\n",
       "    <tr>\n",
       "      <td>3</td>\n",
       "      <td>2D Boy</td>\n",
       "      <td>0.000000</td>\n",
       "      <td>0.030000</td>\n",
       "      <td>0.0</td>\n",
       "      <td>0.010000</td>\n",
       "      <td>0.040000</td>\n",
       "    </tr>\n",
       "    <tr>\n",
       "      <td>4</td>\n",
       "      <td>3DO</td>\n",
       "      <td>0.180000</td>\n",
       "      <td>0.084444</td>\n",
       "      <td>0.0</td>\n",
       "      <td>0.017500</td>\n",
       "      <td>0.281111</td>\n",
       "    </tr>\n",
       "  </tbody>\n",
       "</table>\n",
       "</div>"
      ],
      "text/plain": [
       "                      Publisher  NA_Sales  EU_Sales  JP_Sales  Other_Sales  \\\n",
       "0               10TACLE Studios  0.023333  0.013333       0.0     0.000000   \n",
       "1                    1C Company  0.003333  0.023333       0.0     0.006667   \n",
       "2  20th Century Fox Video Games  0.364000  0.020000       0.0     0.002000   \n",
       "3                        2D Boy  0.000000  0.030000       0.0     0.010000   \n",
       "4                           3DO  0.180000  0.084444       0.0     0.017500   \n",
       "\n",
       "   Global_Sales  \n",
       "0      0.036667  \n",
       "1      0.033333  \n",
       "2      0.388000  \n",
       "3      0.040000  \n",
       "4      0.281111  "
      ]
     },
     "execution_count": 46,
     "metadata": {},
     "output_type": "execute_result"
    }
   ],
   "source": [
    "df_gptest_publisher = vgs_data[['Publisher','NA_Sales','EU_Sales','JP_Sales','Other_Sales','Global_Sales']]\n",
    "grouped_test_publisher = df_gptest_publisher.groupby(['Publisher'],as_index=False).mean()\n",
    "grouped_test_publisher.head(5)"
   ]
  },
  {
   "cell_type": "markdown",
   "metadata": {
    "id": "olcHAvhruUjO"
   },
   "source": [
    "### Correlation"
   ]
  },
  {
   "cell_type": "markdown",
   "metadata": {
    "id": "35JC1-8tu2-8"
   },
   "source": [
    "Korelasi akan diukur dengan P-value, dimana P-value melambangkan kemungkinan korelasi antar dua variabel signifikan secara statistika.\n",
    "\n",
    "Berdasarkan konvensi :\n",
    "\n",
    "* P-Value < 0.001, terdapat bukti kuat bahwa korelasi dua variabel bersifat kuat\n",
    "* P-Value < 0.05, terdapat bukti yang cukup bahwa korelasi dua variabel bersifat kuat\n",
    "* P-Value < 0.1, terdapat bukti lemah bahwa korelasi dua variabel bersifat kuat\n",
    "* P-Value > 0.1, korelasi dua variabel tidak kuat\n",
    "\n"
   ]
  },
  {
   "cell_type": "code",
   "execution_count": 47,
   "metadata": {
    "id": "djbMU62dyY7R"
   },
   "outputs": [],
   "source": [
    "from scipy import stats"
   ]
  },
  {
   "cell_type": "markdown",
   "metadata": {
    "id": "qwq-B7TdycYm"
   },
   "source": [
    "Stats dari scipy digunakan untuk mencari P-Value"
   ]
  },
  {
   "cell_type": "markdown",
   "metadata": {
    "id": "--NVhVYWykmA"
   },
   "source": [
    "Year vs NA_Sales"
   ]
  },
  {
   "cell_type": "code",
   "execution_count": 48,
   "metadata": {
    "colab": {
     "base_uri": "https://localhost:8080/"
    },
    "id": "c8daB0KJybWA",
    "outputId": "fb7de585-591c-4392-b4f1-55e065204373"
   },
   "outputs": [
    {
     "name": "stdout",
     "output_type": "stream",
     "text": [
      "The Pearson Correlation Coefficient is -0.09128479683103669  with a P-value of P = 1.7160699795290644e-31\n"
     ]
    }
   ],
   "source": [
    "pearson_coef, p_value = stats.pearsonr(vgs_data['Year'], vgs_data['NA_Sales'])\n",
    "print(\"The Pearson Correlation Coefficient is\", pearson_coef, \" with a P-value of P =\", p_value)  "
   ]
  },
  {
   "cell_type": "markdown",
   "metadata": {
    "id": "LMzClbF30OdL"
   },
   "source": [
    "Year vs EU_Sales"
   ]
  },
  {
   "cell_type": "code",
   "execution_count": 49,
   "metadata": {
    "colab": {
     "base_uri": "https://localhost:8080/"
    },
    "id": "6ZpfbKsb0y9b",
    "outputId": "e4250b22-2582-4ec2-cb94-1f19b396ed46"
   },
   "outputs": [
    {
     "name": "stdout",
     "output_type": "stream",
     "text": [
      "The Pearson Correlation Coefficient is 0.0061082136095980955  with a P-value of P = 0.4356401139807687\n"
     ]
    }
   ],
   "source": [
    "pearson_coef, p_value = stats.pearsonr(vgs_data['Year'], vgs_data['EU_Sales'])\n",
    "print(\"The Pearson Correlation Coefficient is\", pearson_coef, \" with a P-value of P =\", p_value)  "
   ]
  },
  {
   "cell_type": "markdown",
   "metadata": {
    "id": "2A3U95_50WdH"
   },
   "source": [
    "Year vs JP_Sales"
   ]
  },
  {
   "cell_type": "code",
   "execution_count": 50,
   "metadata": {
    "colab": {
     "base_uri": "https://localhost:8080/"
    },
    "id": "NRGB7S-D0zyT",
    "outputId": "e35a5afb-f782-4ace-f915-6841a3c4f62b"
   },
   "outputs": [
    {
     "name": "stdout",
     "output_type": "stream",
     "text": [
      "The Pearson Correlation Coefficient is -0.16938668401540927  with a P-value of P = 3.940646025067795e-105\n"
     ]
    }
   ],
   "source": [
    "pearson_coef, p_value = stats.pearsonr(vgs_data['Year'], vgs_data['JP_Sales'])\n",
    "print(\"The Pearson Correlation Coefficient is\", pearson_coef, \" with a P-value of P =\", p_value)  "
   ]
  },
  {
   "cell_type": "markdown",
   "metadata": {
    "id": "mUJy0dTU0XAW"
   },
   "source": [
    "Year vs Other_Sales"
   ]
  },
  {
   "cell_type": "code",
   "execution_count": 51,
   "metadata": {
    "colab": {
     "base_uri": "https://localhost:8080/"
    },
    "id": "niXM4Tmp00Je",
    "outputId": "7eb2b067-ba67-4ad8-afce-9fc4b1f0b728"
   },
   "outputs": [
    {
     "name": "stdout",
     "output_type": "stream",
     "text": [
      "The Pearson Correlation Coefficient is 0.041128348749303684  with a P-value of P = 1.5104158802952156e-07\n"
     ]
    }
   ],
   "source": [
    "pearson_coef, p_value = stats.pearsonr(vgs_data['Year'], vgs_data['Other_Sales'])\n",
    "print(\"The Pearson Correlation Coefficient is\", pearson_coef, \" with a P-value of P =\", p_value)  "
   ]
  },
  {
   "cell_type": "markdown",
   "metadata": {
    "id": "QSUlzH_10X5X"
   },
   "source": [
    "Year vs Global_Sales"
   ]
  },
  {
   "cell_type": "code",
   "execution_count": 52,
   "metadata": {
    "colab": {
     "base_uri": "https://localhost:8080/"
    },
    "id": "XM6E6D5N00vW",
    "outputId": "5c1e436d-d946-4495-861e-2e22b344ab8e"
   },
   "outputs": [
    {
     "name": "stdout",
     "output_type": "stream",
     "text": [
      "The Pearson Correlation Coefficient is -0.07464690843566621  with a P-value of P = 1.4251802821018445e-21\n"
     ]
    }
   ],
   "source": [
    "pearson_coef, p_value = stats.pearsonr(vgs_data['Year'], vgs_data['Global_Sales'])\n",
    "print(\"The Pearson Correlation Coefficient is\", pearson_coef, \" with a P-value of P =\", p_value)  "
   ]
  },
  {
   "cell_type": "markdown",
   "metadata": {
    "id": "1j9qUThK1vKo"
   },
   "source": [
    "### Analysis of Variance"
   ]
  },
  {
   "cell_type": "markdown",
   "metadata": {
    "id": "evLpxPBgAjAY"
   },
   "source": [
    "Akan dilakukan analisis terhadap perbedaan antara nilai rata-rata dari dua grup data. Analisis akan dilakukan berdasarkan F-test score dan P-value\n",
    "\n",
    "F-test score : Semakin besar nilainya, semakin besar perbedaan antara nilai rata-rata\n",
    "\n",
    "P-value : Memberikan informasi mengenai korelasi secara statistik dari F-test score.\n",
    "\n",
    "Sebagai contoh jika genre berpengaruh kuat dengan sales, maka nilai F-test score akan cukup besar dan nilai p-value akan kecil"
   ]
  },
  {
   "cell_type": "markdown",
   "metadata": {
    "id": "7biQMqD9AklZ"
   },
   "source": [
    "#### Analysis of Variance(Genre)"
   ]
  },
  {
   "cell_type": "markdown",
   "metadata": {
    "id": "RKcJjmhCAnMd"
   },
   "source": [
    "Kita akan melihat pengaruh genre terhadap NA_Sales"
   ]
  },
  {
   "cell_type": "code",
   "execution_count": 53,
   "metadata": {
    "colab": {
     "base_uri": "https://localhost:8080/"
    },
    "id": "VdCLlr1HAp34",
    "outputId": "ebe2f306-e356-490b-a73c-3e8ad0f7959b"
   },
   "outputs": [
    {
     "data": {
      "text/html": [
       "<div>\n",
       "<style scoped>\n",
       "    .dataframe tbody tr th:only-of-type {\n",
       "        vertical-align: middle;\n",
       "    }\n",
       "\n",
       "    .dataframe tbody tr th {\n",
       "        vertical-align: top;\n",
       "    }\n",
       "\n",
       "    .dataframe thead th {\n",
       "        text-align: right;\n",
       "    }\n",
       "</style>\n",
       "<table border=\"1\" class=\"dataframe\">\n",
       "  <thead>\n",
       "    <tr style=\"text-align: right;\">\n",
       "      <th></th>\n",
       "      <th>Genre</th>\n",
       "      <th>NA_Sales</th>\n",
       "      <th>EU_Sales</th>\n",
       "      <th>JP_Sales</th>\n",
       "      <th>Other_Sales</th>\n",
       "      <th>Global_Sales</th>\n",
       "    </tr>\n",
       "  </thead>\n",
       "  <tbody>\n",
       "    <tr>\n",
       "      <td>0</td>\n",
       "      <td>Sports</td>\n",
       "      <td>41.49</td>\n",
       "      <td>29.02</td>\n",
       "      <td>3.77</td>\n",
       "      <td>8.46</td>\n",
       "      <td>82.74</td>\n",
       "    </tr>\n",
       "    <tr>\n",
       "      <td>1</td>\n",
       "      <td>Platform</td>\n",
       "      <td>29.08</td>\n",
       "      <td>3.58</td>\n",
       "      <td>6.81</td>\n",
       "      <td>0.77</td>\n",
       "      <td>40.24</td>\n",
       "    </tr>\n",
       "    <tr>\n",
       "      <td>2</td>\n",
       "      <td>Racing</td>\n",
       "      <td>15.85</td>\n",
       "      <td>12.88</td>\n",
       "      <td>3.79</td>\n",
       "      <td>3.31</td>\n",
       "      <td>35.82</td>\n",
       "    </tr>\n",
       "    <tr>\n",
       "      <td>4</td>\n",
       "      <td>Role-Playing</td>\n",
       "      <td>11.27</td>\n",
       "      <td>8.89</td>\n",
       "      <td>10.22</td>\n",
       "      <td>1.00</td>\n",
       "      <td>31.37</td>\n",
       "    </tr>\n",
       "    <tr>\n",
       "      <td>5</td>\n",
       "      <td>Puzzle</td>\n",
       "      <td>23.20</td>\n",
       "      <td>2.26</td>\n",
       "      <td>4.22</td>\n",
       "      <td>0.58</td>\n",
       "      <td>30.26</td>\n",
       "    </tr>\n",
       "    <tr>\n",
       "      <td>7</td>\n",
       "      <td>Misc</td>\n",
       "      <td>14.03</td>\n",
       "      <td>9.20</td>\n",
       "      <td>2.93</td>\n",
       "      <td>2.85</td>\n",
       "      <td>29.02</td>\n",
       "    </tr>\n",
       "    <tr>\n",
       "      <td>9</td>\n",
       "      <td>Shooter</td>\n",
       "      <td>26.93</td>\n",
       "      <td>0.63</td>\n",
       "      <td>0.28</td>\n",
       "      <td>0.47</td>\n",
       "      <td>28.31</td>\n",
       "    </tr>\n",
       "    <tr>\n",
       "      <td>10</td>\n",
       "      <td>Simulation</td>\n",
       "      <td>9.07</td>\n",
       "      <td>11.00</td>\n",
       "      <td>1.93</td>\n",
       "      <td>2.75</td>\n",
       "      <td>24.76</td>\n",
       "    </tr>\n",
       "    <tr>\n",
       "      <td>16</td>\n",
       "      <td>Action</td>\n",
       "      <td>7.01</td>\n",
       "      <td>9.27</td>\n",
       "      <td>0.97</td>\n",
       "      <td>4.14</td>\n",
       "      <td>21.40</td>\n",
       "    </tr>\n",
       "    <tr>\n",
       "      <td>39</td>\n",
       "      <td>Fighting</td>\n",
       "      <td>6.75</td>\n",
       "      <td>2.61</td>\n",
       "      <td>2.66</td>\n",
       "      <td>1.02</td>\n",
       "      <td>13.04</td>\n",
       "    </tr>\n",
       "    <tr>\n",
       "      <td>50</td>\n",
       "      <td>Adventure</td>\n",
       "      <td>6.16</td>\n",
       "      <td>2.04</td>\n",
       "      <td>2.69</td>\n",
       "      <td>0.29</td>\n",
       "      <td>11.18</td>\n",
       "    </tr>\n",
       "    <tr>\n",
       "      <td>165</td>\n",
       "      <td>Strategy</td>\n",
       "      <td>3.18</td>\n",
       "      <td>1.24</td>\n",
       "      <td>0.94</td>\n",
       "      <td>0.09</td>\n",
       "      <td>5.45</td>\n",
       "    </tr>\n",
       "  </tbody>\n",
       "</table>\n",
       "</div>"
      ],
      "text/plain": [
       "            Genre  NA_Sales  EU_Sales  JP_Sales  Other_Sales  Global_Sales\n",
       "0          Sports     41.49     29.02      3.77         8.46         82.74\n",
       "1        Platform     29.08      3.58      6.81         0.77         40.24\n",
       "2          Racing     15.85     12.88      3.79         3.31         35.82\n",
       "4    Role-Playing     11.27      8.89     10.22         1.00         31.37\n",
       "5          Puzzle     23.20      2.26      4.22         0.58         30.26\n",
       "7            Misc     14.03      9.20      2.93         2.85         29.02\n",
       "9         Shooter     26.93      0.63      0.28         0.47         28.31\n",
       "10     Simulation      9.07     11.00      1.93         2.75         24.76\n",
       "16         Action      7.01      9.27      0.97         4.14         21.40\n",
       "39       Fighting      6.75      2.61      2.66         1.02         13.04\n",
       "50      Adventure      6.16      2.04      2.69         0.29         11.18\n",
       "165      Strategy      3.18      1.24      0.94         0.09          5.45"
      ]
     },
     "execution_count": 53,
     "metadata": {},
     "output_type": "execute_result"
    }
   ],
   "source": [
    "df_gptest_genre = vgs_data[['Genre','NA_Sales','EU_Sales','JP_Sales','Other_Sales','Global_Sales']]\n",
    "grouped_test_genre = df_gptest_genre.groupby(['Genre'])\n",
    "grouped_test_genre.head(1)"
   ]
  },
  {
   "cell_type": "markdown",
   "metadata": {
    "id": "hZFTurb0AspP"
   },
   "source": [
    "Action and Adventure"
   ]
  },
  {
   "cell_type": "code",
   "execution_count": 54,
   "metadata": {
    "colab": {
     "base_uri": "https://localhost:8080/"
    },
    "id": "D-hGtLHNAtL3",
    "outputId": "a227431c-a770-413c-b840-40443e78bf16"
   },
   "outputs": [
    {
     "name": "stdout",
     "output_type": "stream",
     "text": [
      "ANOVA results: F= 123.39811677920926 , P = 2.6430458794141897e-28\n"
     ]
    }
   ],
   "source": [
    "f_val, p_val = stats.f_oneway(grouped_test_genre.get_group('Action')['NA_Sales'], grouped_test_genre.get_group('Adventure')['NA_Sales'])  \n",
    " \n",
    "print( \"ANOVA results: F=\", f_val, \", P =\", p_val )"
   ]
  },
  {
   "cell_type": "markdown",
   "metadata": {
    "id": "0dTM-wvgAtqV"
   },
   "source": [
    "Action and Strategy"
   ]
  },
  {
   "cell_type": "code",
   "execution_count": 55,
   "metadata": {
    "colab": {
     "base_uri": "https://localhost:8080/"
    },
    "id": "RMKEJeD3AuLx",
    "outputId": "b0dd6e27-bb21-4902-d2fa-48f6ec39f455"
   },
   "outputs": [
    {
     "name": "stdout",
     "output_type": "stream",
     "text": [
      "ANOVA results: F= 52.255849117597045 , P = 5.828420304054811e-13\n"
     ]
    }
   ],
   "source": [
    "f_val, p_val = stats.f_oneway(grouped_test_genre.get_group('Action')['NA_Sales'], grouped_test_genre.get_group('Strategy')['NA_Sales'])  \n",
    " \n",
    "print( \"ANOVA results: F=\", f_val, \", P =\", p_val )"
   ]
  },
  {
   "cell_type": "markdown",
   "metadata": {
    "id": "05pgaW16AwBX"
   },
   "source": [
    "Fighting and Shooter"
   ]
  },
  {
   "cell_type": "code",
   "execution_count": 56,
   "metadata": {
    "colab": {
     "base_uri": "https://localhost:8080/"
    },
    "id": "WbuhR8ESAwdQ",
    "outputId": "16a2564f-d9e8-4275-da8c-10ca5ef977ef"
   },
   "outputs": [
    {
     "name": "stdout",
     "output_type": "stream",
     "text": [
      "ANOVA results: F= 17.338377882254367 , P = 3.2535145528771684e-05\n"
     ]
    }
   ],
   "source": [
    "f_val, p_val = stats.f_oneway(grouped_test_genre.get_group('Fighting')['NA_Sales'], grouped_test_genre.get_group('Shooter')['NA_Sales'])  \n",
    " \n",
    "print( \"ANOVA results: F=\", f_val, \", P =\", p_val )"
   ]
  },
  {
   "cell_type": "markdown",
   "metadata": {
    "id": "FJDquYCHA-Ix"
   },
   "source": [
    "Dapat dilihat bahwa ANOVA result dari beberapa kombinasi genre cukup baik dikarenakan nilai F-test score yang lumayan tinggi dan P-value yang lumayan rendah. Hal tersebut menandakan beberapa genre cukup memiliki korelasi yang lumayan tinggi terhadap NA_Sales."
   ]
  },
  {
   "cell_type": "markdown",
   "metadata": {
    "id": "sGkrK195BBtF"
   },
   "source": [
    "#### Analysis of Variance(Platform)"
   ]
  },
  {
   "cell_type": "markdown",
   "metadata": {
    "id": "OiNH0rq-BEMn"
   },
   "source": [
    "Kita akan melihat pengaruh platform terhadap NA_Sales"
   ]
  },
  {
   "cell_type": "code",
   "execution_count": 57,
   "metadata": {
    "colab": {
     "base_uri": "https://localhost:8080/"
    },
    "id": "MKtlE7fEBH2U",
    "outputId": "7e4be848-765e-4345-a6a9-baab4e9ca72b"
   },
   "outputs": [
    {
     "data": {
      "text/html": [
       "<div>\n",
       "<style scoped>\n",
       "    .dataframe tbody tr th:only-of-type {\n",
       "        vertical-align: middle;\n",
       "    }\n",
       "\n",
       "    .dataframe tbody tr th {\n",
       "        vertical-align: top;\n",
       "    }\n",
       "\n",
       "    .dataframe thead th {\n",
       "        text-align: right;\n",
       "    }\n",
       "</style>\n",
       "<table border=\"1\" class=\"dataframe\">\n",
       "  <thead>\n",
       "    <tr style=\"text-align: right;\">\n",
       "      <th></th>\n",
       "      <th>Platform</th>\n",
       "      <th>NA_Sales</th>\n",
       "      <th>EU_Sales</th>\n",
       "      <th>JP_Sales</th>\n",
       "      <th>Other_Sales</th>\n",
       "      <th>Global_Sales</th>\n",
       "    </tr>\n",
       "  </thead>\n",
       "  <tbody>\n",
       "    <tr>\n",
       "      <td>0</td>\n",
       "      <td>Wii</td>\n",
       "      <td>41.49</td>\n",
       "      <td>29.02</td>\n",
       "      <td>3.77</td>\n",
       "      <td>8.46</td>\n",
       "      <td>82.74</td>\n",
       "    </tr>\n",
       "    <tr>\n",
       "      <td>1</td>\n",
       "      <td>NES</td>\n",
       "      <td>29.08</td>\n",
       "      <td>3.58</td>\n",
       "      <td>6.81</td>\n",
       "      <td>0.77</td>\n",
       "      <td>40.24</td>\n",
       "    </tr>\n",
       "    <tr>\n",
       "      <td>4</td>\n",
       "      <td>GB</td>\n",
       "      <td>11.27</td>\n",
       "      <td>8.89</td>\n",
       "      <td>10.22</td>\n",
       "      <td>1.00</td>\n",
       "      <td>31.37</td>\n",
       "    </tr>\n",
       "    <tr>\n",
       "      <td>6</td>\n",
       "      <td>DS</td>\n",
       "      <td>11.38</td>\n",
       "      <td>9.23</td>\n",
       "      <td>6.50</td>\n",
       "      <td>2.90</td>\n",
       "      <td>30.01</td>\n",
       "    </tr>\n",
       "    <tr>\n",
       "      <td>15</td>\n",
       "      <td>X360</td>\n",
       "      <td>14.97</td>\n",
       "      <td>4.94</td>\n",
       "      <td>0.24</td>\n",
       "      <td>1.67</td>\n",
       "      <td>21.82</td>\n",
       "    </tr>\n",
       "    <tr>\n",
       "      <td>16</td>\n",
       "      <td>PS3</td>\n",
       "      <td>7.01</td>\n",
       "      <td>9.27</td>\n",
       "      <td>0.97</td>\n",
       "      <td>4.14</td>\n",
       "      <td>21.40</td>\n",
       "    </tr>\n",
       "    <tr>\n",
       "      <td>17</td>\n",
       "      <td>PS2</td>\n",
       "      <td>9.43</td>\n",
       "      <td>0.40</td>\n",
       "      <td>0.41</td>\n",
       "      <td>10.57</td>\n",
       "      <td>20.81</td>\n",
       "    </tr>\n",
       "    <tr>\n",
       "      <td>18</td>\n",
       "      <td>SNES</td>\n",
       "      <td>12.78</td>\n",
       "      <td>3.75</td>\n",
       "      <td>3.54</td>\n",
       "      <td>0.55</td>\n",
       "      <td>20.61</td>\n",
       "    </tr>\n",
       "    <tr>\n",
       "      <td>25</td>\n",
       "      <td>GBA</td>\n",
       "      <td>6.06</td>\n",
       "      <td>3.90</td>\n",
       "      <td>5.38</td>\n",
       "      <td>0.50</td>\n",
       "      <td>15.85</td>\n",
       "    </tr>\n",
       "    <tr>\n",
       "      <td>32</td>\n",
       "      <td>3DS</td>\n",
       "      <td>5.17</td>\n",
       "      <td>4.05</td>\n",
       "      <td>4.34</td>\n",
       "      <td>0.79</td>\n",
       "      <td>14.35</td>\n",
       "    </tr>\n",
       "    <tr>\n",
       "      <td>33</td>\n",
       "      <td>PS4</td>\n",
       "      <td>5.77</td>\n",
       "      <td>5.81</td>\n",
       "      <td>0.35</td>\n",
       "      <td>2.31</td>\n",
       "      <td>14.24</td>\n",
       "    </tr>\n",
       "    <tr>\n",
       "      <td>46</td>\n",
       "      <td>N64</td>\n",
       "      <td>6.91</td>\n",
       "      <td>2.85</td>\n",
       "      <td>1.91</td>\n",
       "      <td>0.23</td>\n",
       "      <td>11.89</td>\n",
       "    </tr>\n",
       "    <tr>\n",
       "      <td>52</td>\n",
       "      <td>PS</td>\n",
       "      <td>4.02</td>\n",
       "      <td>3.87</td>\n",
       "      <td>2.54</td>\n",
       "      <td>0.52</td>\n",
       "      <td>10.95</td>\n",
       "    </tr>\n",
       "    <tr>\n",
       "      <td>79</td>\n",
       "      <td>XB</td>\n",
       "      <td>6.82</td>\n",
       "      <td>1.53</td>\n",
       "      <td>0.05</td>\n",
       "      <td>0.08</td>\n",
       "      <td>8.49</td>\n",
       "    </tr>\n",
       "    <tr>\n",
       "      <td>83</td>\n",
       "      <td>PC</td>\n",
       "      <td>0.98</td>\n",
       "      <td>6.42</td>\n",
       "      <td>0.00</td>\n",
       "      <td>0.71</td>\n",
       "      <td>8.11</td>\n",
       "    </tr>\n",
       "    <tr>\n",
       "      <td>89</td>\n",
       "      <td>2600</td>\n",
       "      <td>7.28</td>\n",
       "      <td>0.45</td>\n",
       "      <td>0.00</td>\n",
       "      <td>0.08</td>\n",
       "      <td>7.81</td>\n",
       "    </tr>\n",
       "    <tr>\n",
       "      <td>90</td>\n",
       "      <td>PSP</td>\n",
       "      <td>2.90</td>\n",
       "      <td>2.83</td>\n",
       "      <td>0.24</td>\n",
       "      <td>1.75</td>\n",
       "      <td>7.72</td>\n",
       "    </tr>\n",
       "    <tr>\n",
       "      <td>101</td>\n",
       "      <td>XOne</td>\n",
       "      <td>4.52</td>\n",
       "      <td>2.09</td>\n",
       "      <td>0.01</td>\n",
       "      <td>0.67</td>\n",
       "      <td>7.30</td>\n",
       "    </tr>\n",
       "    <tr>\n",
       "      <td>107</td>\n",
       "      <td>GC</td>\n",
       "      <td>4.41</td>\n",
       "      <td>1.04</td>\n",
       "      <td>1.39</td>\n",
       "      <td>0.22</td>\n",
       "      <td>7.07</td>\n",
       "    </tr>\n",
       "    <tr>\n",
       "      <td>108</td>\n",
       "      <td>WiiU</td>\n",
       "      <td>3.13</td>\n",
       "      <td>2.07</td>\n",
       "      <td>1.27</td>\n",
       "      <td>0.49</td>\n",
       "      <td>6.96</td>\n",
       "    </tr>\n",
       "    <tr>\n",
       "      <td>143</td>\n",
       "      <td>GEN</td>\n",
       "      <td>4.47</td>\n",
       "      <td>1.20</td>\n",
       "      <td>0.16</td>\n",
       "      <td>0.19</td>\n",
       "      <td>6.03</td>\n",
       "    </tr>\n",
       "    <tr>\n",
       "      <td>631</td>\n",
       "      <td>DC</td>\n",
       "      <td>1.26</td>\n",
       "      <td>0.61</td>\n",
       "      <td>0.46</td>\n",
       "      <td>0.08</td>\n",
       "      <td>2.42</td>\n",
       "    </tr>\n",
       "    <tr>\n",
       "      <td>704</td>\n",
       "      <td>PSV</td>\n",
       "      <td>0.28</td>\n",
       "      <td>0.79</td>\n",
       "      <td>0.87</td>\n",
       "      <td>0.32</td>\n",
       "      <td>2.25</td>\n",
       "    </tr>\n",
       "    <tr>\n",
       "      <td>878</td>\n",
       "      <td>SAT</td>\n",
       "      <td>0.34</td>\n",
       "      <td>0.26</td>\n",
       "      <td>1.30</td>\n",
       "      <td>0.03</td>\n",
       "      <td>1.93</td>\n",
       "    </tr>\n",
       "    <tr>\n",
       "      <td>1249</td>\n",
       "      <td>SCD</td>\n",
       "      <td>1.00</td>\n",
       "      <td>0.36</td>\n",
       "      <td>0.09</td>\n",
       "      <td>0.05</td>\n",
       "      <td>1.50</td>\n",
       "    </tr>\n",
       "    <tr>\n",
       "      <td>3874</td>\n",
       "      <td>WS</td>\n",
       "      <td>0.00</td>\n",
       "      <td>0.00</td>\n",
       "      <td>0.51</td>\n",
       "      <td>0.00</td>\n",
       "      <td>0.51</td>\n",
       "    </tr>\n",
       "    <tr>\n",
       "      <td>6568</td>\n",
       "      <td>NG</td>\n",
       "      <td>0.00</td>\n",
       "      <td>0.00</td>\n",
       "      <td>0.25</td>\n",
       "      <td>0.00</td>\n",
       "      <td>0.25</td>\n",
       "    </tr>\n",
       "    <tr>\n",
       "      <td>9058</td>\n",
       "      <td>TG16</td>\n",
       "      <td>0.00</td>\n",
       "      <td>0.00</td>\n",
       "      <td>0.14</td>\n",
       "      <td>0.00</td>\n",
       "      <td>0.14</td>\n",
       "    </tr>\n",
       "    <tr>\n",
       "      <td>12411</td>\n",
       "      <td>3DO</td>\n",
       "      <td>0.00</td>\n",
       "      <td>0.00</td>\n",
       "      <td>0.06</td>\n",
       "      <td>0.00</td>\n",
       "      <td>0.06</td>\n",
       "    </tr>\n",
       "    <tr>\n",
       "      <td>13288</td>\n",
       "      <td>GG</td>\n",
       "      <td>0.00</td>\n",
       "      <td>0.00</td>\n",
       "      <td>0.04</td>\n",
       "      <td>0.00</td>\n",
       "      <td>0.04</td>\n",
       "    </tr>\n",
       "    <tr>\n",
       "      <td>14300</td>\n",
       "      <td>PCFX</td>\n",
       "      <td>0.00</td>\n",
       "      <td>0.00</td>\n",
       "      <td>0.03</td>\n",
       "      <td>0.00</td>\n",
       "      <td>0.03</td>\n",
       "    </tr>\n",
       "  </tbody>\n",
       "</table>\n",
       "</div>"
      ],
      "text/plain": [
       "      Platform  NA_Sales  EU_Sales  JP_Sales  Other_Sales  Global_Sales\n",
       "0          Wii     41.49     29.02      3.77         8.46         82.74\n",
       "1          NES     29.08      3.58      6.81         0.77         40.24\n",
       "4           GB     11.27      8.89     10.22         1.00         31.37\n",
       "6           DS     11.38      9.23      6.50         2.90         30.01\n",
       "15        X360     14.97      4.94      0.24         1.67         21.82\n",
       "16         PS3      7.01      9.27      0.97         4.14         21.40\n",
       "17         PS2      9.43      0.40      0.41        10.57         20.81\n",
       "18        SNES     12.78      3.75      3.54         0.55         20.61\n",
       "25         GBA      6.06      3.90      5.38         0.50         15.85\n",
       "32         3DS      5.17      4.05      4.34         0.79         14.35\n",
       "33         PS4      5.77      5.81      0.35         2.31         14.24\n",
       "46         N64      6.91      2.85      1.91         0.23         11.89\n",
       "52          PS      4.02      3.87      2.54         0.52         10.95\n",
       "79          XB      6.82      1.53      0.05         0.08          8.49\n",
       "83          PC      0.98      6.42      0.00         0.71          8.11\n",
       "89        2600      7.28      0.45      0.00         0.08          7.81\n",
       "90         PSP      2.90      2.83      0.24         1.75          7.72\n",
       "101       XOne      4.52      2.09      0.01         0.67          7.30\n",
       "107         GC      4.41      1.04      1.39         0.22          7.07\n",
       "108       WiiU      3.13      2.07      1.27         0.49          6.96\n",
       "143        GEN      4.47      1.20      0.16         0.19          6.03\n",
       "631         DC      1.26      0.61      0.46         0.08          2.42\n",
       "704        PSV      0.28      0.79      0.87         0.32          2.25\n",
       "878        SAT      0.34      0.26      1.30         0.03          1.93\n",
       "1249       SCD      1.00      0.36      0.09         0.05          1.50\n",
       "3874        WS      0.00      0.00      0.51         0.00          0.51\n",
       "6568        NG      0.00      0.00      0.25         0.00          0.25\n",
       "9058      TG16      0.00      0.00      0.14         0.00          0.14\n",
       "12411      3DO      0.00      0.00      0.06         0.00          0.06\n",
       "13288       GG      0.00      0.00      0.04         0.00          0.04\n",
       "14300     PCFX      0.00      0.00      0.03         0.00          0.03"
      ]
     },
     "execution_count": 57,
     "metadata": {},
     "output_type": "execute_result"
    }
   ],
   "source": [
    "df_gptest_platform = vgs_data[['Platform','NA_Sales','EU_Sales','JP_Sales','Other_Sales','Global_Sales']]\n",
    "grouped_test_platform = df_gptest_platform.groupby(['Platform'])\n",
    "grouped_test_platform.head(1)"
   ]
  },
  {
   "cell_type": "markdown",
   "metadata": {
    "id": "W4S3xXLyBLC0"
   },
   "source": [
    "Wii and DS"
   ]
  },
  {
   "cell_type": "code",
   "execution_count": 58,
   "metadata": {
    "colab": {
     "base_uri": "https://localhost:8080/"
    },
    "id": "xNnwy6miBNe8",
    "outputId": "174af6fa-c004-4ee4-ac5b-a07270a057f1"
   },
   "outputs": [
    {
     "name": "stdout",
     "output_type": "stream",
     "text": [
      "ANOVA results: F= 30.377375694525167 , P = 3.8199052860839055e-08\n"
     ]
    }
   ],
   "source": [
    "f_val, p_val = stats.f_oneway(grouped_test_platform.get_group('Wii')['NA_Sales'], grouped_test_platform.get_group('DS')['NA_Sales'])  \n",
    " \n",
    "print( \"ANOVA results: F=\", f_val, \", P =\", p_val )"
   ]
  },
  {
   "cell_type": "markdown",
   "metadata": {
    "id": "tdC2VTMfBPLT"
   },
   "source": [
    "3DS and PS4"
   ]
  },
  {
   "cell_type": "code",
   "execution_count": 59,
   "metadata": {
    "colab": {
     "base_uri": "https://localhost:8080/"
    },
    "id": "NZAJ460SBSpM",
    "outputId": "b01ff5fb-7c12-49e8-c99b-caac1f65ad79"
   },
   "outputs": [
    {
     "name": "stdout",
     "output_type": "stream",
     "text": [
      "ANOVA results: F= 11.446929754445106 , P = 0.0007495488194461099\n"
     ]
    }
   ],
   "source": [
    "f_val, p_val = stats.f_oneway(grouped_test_platform.get_group('3DS')['NA_Sales'], grouped_test_platform.get_group('PS4')['NA_Sales'])  \n",
    " \n",
    "print( \"ANOVA results: F=\", f_val, \", P =\", p_val )"
   ]
  },
  {
   "cell_type": "markdown",
   "metadata": {
    "id": "UIFFmFs-BUsH"
   },
   "source": [
    "Wii and 3DS"
   ]
  },
  {
   "cell_type": "code",
   "execution_count": 60,
   "metadata": {
    "colab": {
     "base_uri": "https://localhost:8080/"
    },
    "id": "u8srok56BXB8",
    "outputId": "b788213a-27a7-4191-a55f-335efb060eb3"
   },
   "outputs": [
    {
     "name": "stdout",
     "output_type": "stream",
     "text": [
      "ANOVA results: F= 10.404542883472207 , P = 0.001279776376513807\n"
     ]
    }
   ],
   "source": [
    "f_val, p_val = stats.f_oneway(grouped_test_platform.get_group('Wii')['NA_Sales'], grouped_test_platform.get_group('3DS')['NA_Sales'])  \n",
    " \n",
    "print( \"ANOVA results: F=\", f_val, \", P =\", p_val )"
   ]
  },
  {
   "cell_type": "markdown",
   "metadata": {
    "id": "t_Fq5z00BhoF"
   },
   "source": [
    "Jika dilihat dari 3 kombinasi platform, hasil F-test score dan P-value terlihat normal, dimana F-test score tidak terlalu besar sekali dan P-value tidak terlalu kecil sekali. Untuk kombinasi tersebut, korelasi antara platform dan NA_Sales lumayan tinggi."
   ]
  },
  {
   "cell_type": "markdown",
   "metadata": {
    "id": "yfz4FGYABmQg"
   },
   "source": [
    "#### Analysis of Variance(Publisher)"
   ]
  },
  {
   "cell_type": "markdown",
   "metadata": {
    "id": "u3Pd5o-hBpyw"
   },
   "source": [
    "Kita akan melihat pengaruh publisher terhadap NA_Sales"
   ]
  },
  {
   "cell_type": "code",
   "execution_count": 61,
   "metadata": {
    "colab": {
     "base_uri": "https://localhost:8080/"
    },
    "id": "j6oOfyujBrqm",
    "outputId": "f88e8529-ebb0-49bf-bce1-0e82ef98b73c"
   },
   "outputs": [
    {
     "data": {
      "text/html": [
       "<div>\n",
       "<style scoped>\n",
       "    .dataframe tbody tr th:only-of-type {\n",
       "        vertical-align: middle;\n",
       "    }\n",
       "\n",
       "    .dataframe tbody tr th {\n",
       "        vertical-align: top;\n",
       "    }\n",
       "\n",
       "    .dataframe thead th {\n",
       "        text-align: right;\n",
       "    }\n",
       "</style>\n",
       "<table border=\"1\" class=\"dataframe\">\n",
       "  <thead>\n",
       "    <tr style=\"text-align: right;\">\n",
       "      <th></th>\n",
       "      <th>Publisher</th>\n",
       "      <th>NA_Sales</th>\n",
       "      <th>EU_Sales</th>\n",
       "      <th>JP_Sales</th>\n",
       "      <th>Other_Sales</th>\n",
       "      <th>Global_Sales</th>\n",
       "    </tr>\n",
       "  </thead>\n",
       "  <tbody>\n",
       "    <tr>\n",
       "      <td>0</td>\n",
       "      <td>Nintendo</td>\n",
       "      <td>41.49</td>\n",
       "      <td>29.02</td>\n",
       "      <td>3.77</td>\n",
       "      <td>8.46</td>\n",
       "      <td>82.74</td>\n",
       "    </tr>\n",
       "    <tr>\n",
       "      <td>15</td>\n",
       "      <td>Microsoft Game Studios</td>\n",
       "      <td>14.97</td>\n",
       "      <td>4.94</td>\n",
       "      <td>0.24</td>\n",
       "      <td>1.67</td>\n",
       "      <td>21.82</td>\n",
       "    </tr>\n",
       "    <tr>\n",
       "      <td>16</td>\n",
       "      <td>Take-Two Interactive</td>\n",
       "      <td>7.01</td>\n",
       "      <td>9.27</td>\n",
       "      <td>0.97</td>\n",
       "      <td>4.14</td>\n",
       "      <td>21.40</td>\n",
       "    </tr>\n",
       "    <tr>\n",
       "      <td>28</td>\n",
       "      <td>Sony Computer Entertainment</td>\n",
       "      <td>6.85</td>\n",
       "      <td>5.09</td>\n",
       "      <td>1.87</td>\n",
       "      <td>1.16</td>\n",
       "      <td>14.98</td>\n",
       "    </tr>\n",
       "    <tr>\n",
       "      <td>29</td>\n",
       "      <td>Activision</td>\n",
       "      <td>9.03</td>\n",
       "      <td>4.28</td>\n",
       "      <td>0.13</td>\n",
       "      <td>1.32</td>\n",
       "      <td>14.76</td>\n",
       "    </tr>\n",
       "    <tr>\n",
       "      <td>...</td>\n",
       "      <td>...</td>\n",
       "      <td>...</td>\n",
       "      <td>...</td>\n",
       "      <td>...</td>\n",
       "      <td>...</td>\n",
       "      <td>...</td>\n",
       "    </tr>\n",
       "    <tr>\n",
       "      <td>16169</td>\n",
       "      <td>Inti Creates</td>\n",
       "      <td>0.00</td>\n",
       "      <td>0.00</td>\n",
       "      <td>0.01</td>\n",
       "      <td>0.00</td>\n",
       "      <td>0.01</td>\n",
       "    </tr>\n",
       "    <tr>\n",
       "      <td>16198</td>\n",
       "      <td>Takuyo</td>\n",
       "      <td>0.00</td>\n",
       "      <td>0.00</td>\n",
       "      <td>0.01</td>\n",
       "      <td>0.00</td>\n",
       "      <td>0.01</td>\n",
       "    </tr>\n",
       "    <tr>\n",
       "      <td>16205</td>\n",
       "      <td>Interchannel-Holon</td>\n",
       "      <td>0.00</td>\n",
       "      <td>0.00</td>\n",
       "      <td>0.01</td>\n",
       "      <td>0.00</td>\n",
       "      <td>0.01</td>\n",
       "    </tr>\n",
       "    <tr>\n",
       "      <td>16258</td>\n",
       "      <td>Rain Games</td>\n",
       "      <td>0.00</td>\n",
       "      <td>0.01</td>\n",
       "      <td>0.00</td>\n",
       "      <td>0.00</td>\n",
       "      <td>0.01</td>\n",
       "    </tr>\n",
       "    <tr>\n",
       "      <td>16263</td>\n",
       "      <td>UIG Entertainment</td>\n",
       "      <td>0.00</td>\n",
       "      <td>0.01</td>\n",
       "      <td>0.00</td>\n",
       "      <td>0.00</td>\n",
       "      <td>0.01</td>\n",
       "    </tr>\n",
       "  </tbody>\n",
       "</table>\n",
       "<p>576 rows × 6 columns</p>\n",
       "</div>"
      ],
      "text/plain": [
       "                         Publisher  NA_Sales  EU_Sales  JP_Sales  Other_Sales  \\\n",
       "0                         Nintendo     41.49     29.02      3.77         8.46   \n",
       "15          Microsoft Game Studios     14.97      4.94      0.24         1.67   \n",
       "16            Take-Two Interactive      7.01      9.27      0.97         4.14   \n",
       "28     Sony Computer Entertainment      6.85      5.09      1.87         1.16   \n",
       "29                      Activision      9.03      4.28      0.13         1.32   \n",
       "...                            ...       ...       ...       ...          ...   \n",
       "16169                 Inti Creates      0.00      0.00      0.01         0.00   \n",
       "16198                       Takuyo      0.00      0.00      0.01         0.00   \n",
       "16205           Interchannel-Holon      0.00      0.00      0.01         0.00   \n",
       "16258                   Rain Games      0.00      0.01      0.00         0.00   \n",
       "16263            UIG Entertainment      0.00      0.01      0.00         0.00   \n",
       "\n",
       "       Global_Sales  \n",
       "0             82.74  \n",
       "15            21.82  \n",
       "16            21.40  \n",
       "28            14.98  \n",
       "29            14.76  \n",
       "...             ...  \n",
       "16169          0.01  \n",
       "16198          0.01  \n",
       "16205          0.01  \n",
       "16258          0.01  \n",
       "16263          0.01  \n",
       "\n",
       "[576 rows x 6 columns]"
      ]
     },
     "execution_count": 61,
     "metadata": {},
     "output_type": "execute_result"
    }
   ],
   "source": [
    "df_gptest_publisher = vgs_data[['Publisher','NA_Sales','EU_Sales','JP_Sales','Other_Sales','Global_Sales']]\n",
    "grouped_test_publisher = df_gptest_publisher.groupby(['Publisher'])\n",
    "grouped_test_publisher.head(1)"
   ]
  },
  {
   "cell_type": "markdown",
   "metadata": {
    "id": "XD-QeP-XBuK0"
   },
   "source": [
    "Nintendo and Activision"
   ]
  },
  {
   "cell_type": "code",
   "execution_count": 62,
   "metadata": {
    "colab": {
     "base_uri": "https://localhost:8080/"
    },
    "id": "Vlr2QufWBwB0",
    "outputId": "9ebe05f6-e197-4f9f-930f-19c08f3b8a70"
   },
   "outputs": [
    {
     "name": "stdout",
     "output_type": "stream",
     "text": [
      "ANOVA results: F= 51.27314716409403 , P = 1.2025868778755804e-12\n"
     ]
    }
   ],
   "source": [
    "f_val, p_val = stats.f_oneway(grouped_test_publisher.get_group('Nintendo')['NA_Sales'], grouped_test_publisher.get_group('Activision')['NA_Sales'])  \n",
    " \n",
    "print( \"ANOVA results: F=\", f_val, \", P =\", p_val )"
   ]
  },
  {
   "cell_type": "markdown",
   "metadata": {
    "id": "h3Hvnc_sBxoI"
   },
   "source": [
    "Nintendo and Sony Computer Entertainment"
   ]
  },
  {
   "cell_type": "code",
   "execution_count": 63,
   "metadata": {
    "colab": {
     "base_uri": "https://localhost:8080/"
    },
    "id": "d8pmezSRBzgM",
    "outputId": "9b45e2fc-e524-44fa-8168-b27d21d3da7b"
   },
   "outputs": [
    {
     "name": "stdout",
     "output_type": "stream",
     "text": [
      "ANOVA results: F= 44.37922919101593 , P = 3.9012507343087023e-11\n"
     ]
    }
   ],
   "source": [
    "f_val, p_val = stats.f_oneway(grouped_test_publisher.get_group('Nintendo')['NA_Sales'], grouped_test_publisher.get_group('Sony Computer Entertainment')['NA_Sales'])  \n",
    " \n",
    "print( \"ANOVA results: F=\", f_val, \", P =\", p_val )"
   ]
  },
  {
   "cell_type": "markdown",
   "metadata": {
    "id": "kOGvUUmUB1x9"
   },
   "source": [
    "Take-Two Interactive and Activision"
   ]
  },
  {
   "cell_type": "code",
   "execution_count": 64,
   "metadata": {
    "colab": {
     "base_uri": "https://localhost:8080/"
    },
    "id": "9HiQJB0eB53a",
    "outputId": "440cda06-44b0-4208-853d-7d3fab597c42"
   },
   "outputs": [
    {
     "name": "stdout",
     "output_type": "stream",
     "text": [
      "ANOVA results: F= 2.716866366503817 , P = 0.09952106343435584\n"
     ]
    }
   ],
   "source": [
    "f_val, p_val = stats.f_oneway(grouped_test_publisher.get_group('Take-Two Interactive')['NA_Sales'], grouped_test_publisher.get_group('Activision')['NA_Sales'])  \n",
    " \n",
    "print( \"ANOVA results: F=\", f_val, \", P =\", p_val )"
   ]
  },
  {
   "cell_type": "markdown",
   "metadata": {
    "id": "mPx40vz-B8DO"
   },
   "source": [
    "Dapat dilihat bahwa ANOVA result dari beberapa kombinasi publisher cukup baik dikarenakan nilai F-test score yang lumayan tinggi dan P-value yang lumayan rendah. Hal tersebut menandakan beberapa publisher cukup memiliki korelasi yang lumayan tinggi terhadap NA_Sales."
   ]
  },
  {
   "cell_type": "markdown",
   "metadata": {
    "id": "45KRR4biB_dt"
   },
   "source": [
    "#### ANOVA Conclusion"
   ]
  },
  {
   "cell_type": "markdown",
   "metadata": {
    "id": "axxF4k0mCDTJ"
   },
   "source": [
    "Dari beberapa percobaan, genre, platform, dan publisher memiliki korelasi yang lumayan kuat dengan NA_Sales, sehingga fitur-fitur tersebut cukup bisa digunakan untuk menganalisis NA_Sales."
   ]
  },
  {
   "cell_type": "markdown",
   "metadata": {
    "id": "VXghVxf0K6so"
   },
   "source": [
    "## Model Development"
   ]
  },
  {
   "cell_type": "markdown",
   "metadata": {
    "id": "96KJzz8VlOxt"
   },
   "source": [
    "Model akan dibuat dengan tujuan memprediksi harga penjualan global games berdasarkan data yang ada. Oleh karena itu akan digunakan algoritma regresi pada machine learning."
   ]
  },
  {
   "cell_type": "markdown",
   "metadata": {
    "id": "gAyI_3OAzHMV"
   },
   "source": [
    "Import library sklearn untuk algoritma regresi dan persiapan data untuk pembangunan model dan eksperimen."
   ]
  },
  {
   "cell_type": "code",
   "execution_count": 65,
   "metadata": {
    "id": "weYOksMJzI8Q"
   },
   "outputs": [],
   "source": [
    "from sklearn.model_selection import train_test_split\n",
    "from sklearn.linear_model import LinearRegression\n",
    "from sklearn.metrics import mean_squared_error"
   ]
  },
  {
   "cell_type": "markdown",
   "metadata": {
    "id": "6CwoOZlWz95b"
   },
   "source": [
    "Library yang akan digunakan dalam plotting."
   ]
  },
  {
   "cell_type": "code",
   "execution_count": 66,
   "metadata": {
    "id": "qV-YEBEs0B2M"
   },
   "outputs": [],
   "source": [
    "%%capture\n",
    "! pip install ipywidgets\n",
    "from IPython.display import display\n",
    "from IPython.html import widgets \n",
    "from IPython.display import display\n",
    "from ipywidgets import interact, interactive, fixed, interact_manual"
   ]
  },
  {
   "cell_type": "markdown",
   "metadata": {
    "id": "VJVfbkMvlqIJ"
   },
   "source": [
    "### Tahap Pemilihan Fitur"
   ]
  },
  {
   "cell_type": "markdown",
   "metadata": {
    "id": "goux1bykl0bs"
   },
   "source": [
    "Pada tahap ini, fitur yang dipilih adalah jenis platform, genre, dan publisher dari game"
   ]
  },
  {
   "cell_type": "code",
   "execution_count": 67,
   "metadata": {
    "colab": {
     "base_uri": "https://localhost:8080/",
     "height": 204
    },
    "id": "zrKvkolVL3Pf",
    "outputId": "cfa351aa-324c-433a-a37d-aa6cdf7b9e8c"
   },
   "outputs": [
    {
     "data": {
      "text/html": [
       "<div>\n",
       "<style scoped>\n",
       "    .dataframe tbody tr th:only-of-type {\n",
       "        vertical-align: middle;\n",
       "    }\n",
       "\n",
       "    .dataframe tbody tr th {\n",
       "        vertical-align: top;\n",
       "    }\n",
       "\n",
       "    .dataframe thead th {\n",
       "        text-align: right;\n",
       "    }\n",
       "</style>\n",
       "<table border=\"1\" class=\"dataframe\">\n",
       "  <thead>\n",
       "    <tr style=\"text-align: right;\">\n",
       "      <th></th>\n",
       "      <th>Platform</th>\n",
       "      <th>Genre</th>\n",
       "      <th>Publisher</th>\n",
       "      <th>Global_Sales</th>\n",
       "    </tr>\n",
       "  </thead>\n",
       "  <tbody>\n",
       "    <tr>\n",
       "      <td>0</td>\n",
       "      <td>Wii</td>\n",
       "      <td>Sports</td>\n",
       "      <td>Nintendo</td>\n",
       "      <td>82.74</td>\n",
       "    </tr>\n",
       "    <tr>\n",
       "      <td>1</td>\n",
       "      <td>NES</td>\n",
       "      <td>Platform</td>\n",
       "      <td>Nintendo</td>\n",
       "      <td>40.24</td>\n",
       "    </tr>\n",
       "    <tr>\n",
       "      <td>2</td>\n",
       "      <td>Wii</td>\n",
       "      <td>Racing</td>\n",
       "      <td>Nintendo</td>\n",
       "      <td>35.82</td>\n",
       "    </tr>\n",
       "    <tr>\n",
       "      <td>3</td>\n",
       "      <td>Wii</td>\n",
       "      <td>Sports</td>\n",
       "      <td>Nintendo</td>\n",
       "      <td>33.00</td>\n",
       "    </tr>\n",
       "    <tr>\n",
       "      <td>4</td>\n",
       "      <td>GB</td>\n",
       "      <td>Role-Playing</td>\n",
       "      <td>Nintendo</td>\n",
       "      <td>31.37</td>\n",
       "    </tr>\n",
       "  </tbody>\n",
       "</table>\n",
       "</div>"
      ],
      "text/plain": [
       "  Platform         Genre Publisher  Global_Sales\n",
       "0      Wii        Sports  Nintendo         82.74\n",
       "1      NES      Platform  Nintendo         40.24\n",
       "2      Wii        Racing  Nintendo         35.82\n",
       "3      Wii        Sports  Nintendo         33.00\n",
       "4       GB  Role-Playing  Nintendo         31.37"
      ]
     },
     "execution_count": 67,
     "metadata": {},
     "output_type": "execute_result"
    }
   ],
   "source": [
    "data = vgs_data[['Platform','Genre','Publisher','Global_Sales']]\n",
    "data.head(5)"
   ]
  },
  {
   "cell_type": "markdown",
   "metadata": {
    "id": "5Z-Kvaxll8qj"
   },
   "source": [
    "Dikarenakan untuk setiap fitur, tipe datanya bukan int atau float, maka setiap nilai diubah menjadi sebuah id untuk setiap unique value."
   ]
  },
  {
   "cell_type": "code",
   "execution_count": 68,
   "metadata": {
    "colab": {
     "base_uri": "https://localhost:8080/"
    },
    "id": "nQIBak_IQbhS",
    "outputId": "a7ebee65-e1a1-47eb-8a2b-1ced7bf6df71"
   },
   "outputs": [
    {
     "name": "stderr",
     "output_type": "stream",
     "text": [
      "C:\\ProgramData\\Anaconda3\\lib\\site-packages\\ipykernel_launcher.py:7: SettingWithCopyWarning: \n",
      "A value is trying to be set on a copy of a slice from a DataFrame\n",
      "\n",
      "See the caveats in the documentation: http://pandas.pydata.org/pandas-docs/stable/user_guide/indexing.html#returning-a-view-versus-a-copy\n",
      "  import sys\n",
      "C:\\ProgramData\\Anaconda3\\lib\\site-packages\\IPython\\core\\interactiveshell.py:3326: SettingWithCopyWarning: \n",
      "A value is trying to be set on a copy of a slice from a DataFrame\n",
      "\n",
      "See the caveats in the documentation: http://pandas.pydata.org/pandas-docs/stable/user_guide/indexing.html#returning-a-view-versus-a-copy\n",
      "  exec(code_obj, self.user_global_ns, self.user_ns)\n",
      "C:\\ProgramData\\Anaconda3\\lib\\site-packages\\ipykernel_launcher.py:11: SettingWithCopyWarning: \n",
      "A value is trying to be set on a copy of a slice from a DataFrame\n",
      "\n",
      "See the caveats in the documentation: http://pandas.pydata.org/pandas-docs/stable/user_guide/indexing.html#returning-a-view-versus-a-copy\n",
      "  # This is added back by InteractiveShellApp.init_path()\n",
      "C:\\ProgramData\\Anaconda3\\lib\\site-packages\\ipykernel_launcher.py:15: SettingWithCopyWarning: \n",
      "A value is trying to be set on a copy of a slice from a DataFrame\n",
      "\n",
      "See the caveats in the documentation: http://pandas.pydata.org/pandas-docs/stable/user_guide/indexing.html#returning-a-view-versus-a-copy\n",
      "  from ipykernel import kernelapp as app\n"
     ]
    }
   ],
   "source": [
    "platform_arr = data['Platform'].unique()\n",
    "genre_arr = data['Genre'].unique()\n",
    "publisher_arr = data['Publisher'].unique()\n",
    "for i in range (len(platform_arr)) :\n",
    "  for j in range(len(data)) :\n",
    "    if(platform_arr[i] == data['Platform'][j]) :\n",
    "      data['Platform'][j] = i + 1\n",
    "for i in range (len(genre_arr)) :\n",
    "  for j in range(len(data)) :\n",
    "    if(genre_arr[i] == data['Genre'][j]) :\n",
    "      data['Genre'][j] = i + 1\n",
    "for i in range (len(publisher_arr)) :\n",
    "  for j in range(len(data)) :\n",
    "    if(publisher_arr[i] == data['Publisher'][j]) :\n",
    "      data['Publisher'][j] = i + 1"
   ]
  },
  {
   "cell_type": "markdown",
   "metadata": {
    "id": "USW9sH82ps8D"
   },
   "source": [
    "Data kemudian displit menjadi data untuk train dan test, dimana jumlah train = 85% jumlah data, dan jumlah tes = 15% data."
   ]
  },
  {
   "cell_type": "code",
   "execution_count": 69,
   "metadata": {
    "colab": {
     "base_uri": "https://localhost:8080/"
    },
    "id": "jXqZBi1hTn0F",
    "outputId": "bddacba3-fc73-4d0f-ff07-af3e61eed7a3"
   },
   "outputs": [
    {
     "name": "stdout",
     "output_type": "stream",
     "text": [
      "number of test samples : 3259\n",
      "number of training samples: 13032\n"
     ]
    }
   ],
   "source": [
    "y_data = data['Global_Sales']\n",
    "x_data = data.drop('Global_Sales',axis = 1)\n",
    "from sklearn.model_selection import train_test_split\n",
    "x_train, x_test, y_train, y_test = train_test_split(x_data, y_data, test_size=0.2, random_state=1)\n",
    "print(\"number of test samples :\", x_test.shape[0])\n",
    "print(\"number of training samples:\",x_train.shape[0])"
   ]
  },
  {
   "cell_type": "markdown",
   "metadata": {
    "id": "Ts23tEdCp-MJ"
   },
   "source": [
    "### Eksperimen Multiple Linear Regression"
   ]
  },
  {
   "cell_type": "code",
   "execution_count": 70,
   "metadata": {
    "colab": {
     "base_uri": "https://localhost:8080/"
    },
    "id": "9cc6kbsRUBQ6",
    "outputId": "cae4e77c-262f-4b45-f2a8-c3392557edf1"
   },
   "outputs": [
    {
     "data": {
      "text/plain": [
       "LinearRegression(copy_X=True, fit_intercept=True, n_jobs=None, normalize=False)"
      ]
     },
     "execution_count": 70,
     "metadata": {},
     "output_type": "execute_result"
    }
   ],
   "source": [
    "from sklearn.linear_model import LinearRegression\n",
    "lre=LinearRegression()\n",
    "lre.fit(x_train,y_train)"
   ]
  },
  {
   "cell_type": "code",
   "execution_count": 71,
   "metadata": {
    "colab": {
     "base_uri": "https://localhost:8080/"
    },
    "id": "rn8KonwPVN_h",
    "outputId": "ba16ee3e-7786-4f1e-b37c-ab45ecdc8768"
   },
   "outputs": [
    {
     "name": "stdout",
     "output_type": "stream",
     "text": [
      "0.9778400040410773   [-0.02030236 -0.0176861  -0.0021037 ]\n"
     ]
    }
   ],
   "source": [
    "print(lre.intercept_,\" \",lre.coef_)"
   ]
  },
  {
   "cell_type": "markdown",
   "metadata": {
    "id": "fsFwkPBcrOgt"
   },
   "source": [
    "Nilai R^2 untuk data tes dan data train"
   ]
  },
  {
   "cell_type": "code",
   "execution_count": 72,
   "metadata": {
    "colab": {
     "base_uri": "https://localhost:8080/"
    },
    "id": "sral7hwfjKZB",
    "outputId": "36e80e1e-abc2-4a61-92ff-2c0037779477"
   },
   "outputs": [
    {
     "data": {
      "text/plain": [
       "0.03314445197759852"
      ]
     },
     "execution_count": 72,
     "metadata": {},
     "output_type": "execute_result"
    }
   ],
   "source": [
    "lre.score(x_test, y_test)"
   ]
  },
  {
   "cell_type": "code",
   "execution_count": 73,
   "metadata": {
    "colab": {
     "base_uri": "https://localhost:8080/"
    },
    "id": "rW4DwYCJjdjL",
    "outputId": "3ea71c1b-e9a0-449c-e507-a019ed17a97a"
   },
   "outputs": [
    {
     "data": {
      "text/plain": [
       "0.02836644234440766"
      ]
     },
     "execution_count": 73,
     "metadata": {},
     "output_type": "execute_result"
    }
   ],
   "source": [
    "lre.score(x_train, y_train)"
   ]
  },
  {
   "cell_type": "markdown",
   "metadata": {
    "id": "95PQWWrkrZcj"
   },
   "source": [
    "#### Pengecekan Prediksi Nilai"
   ]
  },
  {
   "cell_type": "markdown",
   "metadata": {
    "id": "xveLZ6RtyQkf"
   },
   "source": [
    "Akan dilakukan pengecekan prediksi nilai dari model menggunakan data tes. Pengecekan dilakukan untuk melihat apakah model bisa digunakan atau model overfit atau underfit."
   ]
  },
  {
   "cell_type": "code",
   "execution_count": 74,
   "metadata": {
    "colab": {
     "base_uri": "https://localhost:8080/"
    },
    "id": "L46N1OoKyw5k",
    "outputId": "ae1bc073-84e4-47c4-90f2-1d44fc8794b8"
   },
   "outputs": [
    {
     "data": {
      "text/plain": [
       "array([0.83305376, 0.75758941, 0.75628876, 0.77989524, 0.7908579 ])"
      ]
     },
     "execution_count": 74,
     "metadata": {},
     "output_type": "execute_result"
    }
   ],
   "source": [
    "y_pred_test = lre.predict(x_test)\n",
    "y_pred_test[0:5]"
   ]
  },
  {
   "cell_type": "markdown",
   "metadata": {
    "id": "L3M_TuGE2L8c"
   },
   "source": [
    "Plot perbandingan distribusi nilai prediksi data test dan nilai data test"
   ]
  },
  {
   "cell_type": "code",
   "execution_count": 75,
   "metadata": {
    "colab": {
     "base_uri": "https://localhost:8080/",
     "height": 710
    },
    "id": "bNZ0Yj9M2Tev",
    "outputId": "32dd768a-d22f-430d-ec02-dfad89bf92c8"
   },
   "outputs": [
    {
     "data": {
      "image/png": "[encoded data removed]",
      "text/plain": [
       "<Figure size 864x720 with 1 Axes>"
      ]
     },
     "metadata": {
      "needs_background": "light"
     },
     "output_type": "display_data"
    }
   ],
   "source": [
    "import matplotlib.pyplot as plt\n",
    "%matplotlib inline\n",
    "import seaborn as sns\n",
    "Title = 'Distribution  Plot of  Predicted Value Using Test Data vs Test Data Distribution'\n",
    "RedName = \"Predicted Values(Test)\"\n",
    "BlueName = \"Actual Values(Test)\"\n",
    "width = 12\n",
    "height = 10\n",
    "plt.figure(figsize=(width, height))\n",
    "\n",
    "ax1 = sns.distplot(y_pred_test, hist=False, color=\"r\", label=RedName)\n",
    "ax2 = sns.distplot(y_test, hist=False, color=\"b\", label=BlueName, ax=ax1)\n",
    "\n",
    "plt.title(Title)\n",
    "\n",
    "plt.show()\n",
    "plt.close()"
   ]
  },
  {
   "cell_type": "markdown",
   "metadata": {
    "id": "KI814ptyPtyH"
   },
   "source": [
    "#### Perhitungan Mean Squared Error"
   ]
  },
  {
   "cell_type": "code",
   "execution_count": 76,
   "metadata": {
    "colab": {
     "base_uri": "https://localhost:8080/"
    },
    "id": "Jd0ter5cPskR",
    "outputId": "1542c754-fd87-41bb-e4c6-921e796c972f"
   },
   "outputs": [
    {
     "data": {
      "text/plain": [
       "1.9735287424388048"
      ]
     },
     "execution_count": 76,
     "metadata": {},
     "output_type": "execute_result"
    }
   ],
   "source": [
    "mean_squared_error(y_test,y_pred_test)"
   ]
  },
  {
   "cell_type": "markdown",
   "metadata": {
    "id": "UXjlMhFvqZmQ"
   },
   "source": [
    "### Eksperimen Pipeline + Polinomial Regression"
   ]
  },
  {
   "cell_type": "markdown",
   "metadata": {
    "id": "aE1j2QRhMuTg"
   },
   "source": [
    "Pada bagian ini akan dijelaskan mengenai polinomial regression dan pipeline"
   ]
  },
  {
   "cell_type": "code",
   "execution_count": 77,
   "metadata": {
    "id": "Wb48Z_FHqVKm"
   },
   "outputs": [],
   "source": [
    "from sklearn.preprocessing import PolynomialFeatures\n",
    "poli_degree = 6\n",
    "pr=PolynomialFeatures(degree=poli_degree, include_bias=False)"
   ]
  },
  {
   "cell_type": "code",
   "execution_count": 78,
   "metadata": {
    "id": "IcE4ZY0INJAo"
   },
   "outputs": [],
   "source": [
    "x_polly=pr.fit_transform(x_train)\n",
    "from sklearn.preprocessing import StandardScaler\n",
    "SCALE=StandardScaler()\n",
    "SCALE.fit(x_train)\n",
    "x_scale=SCALE.transform(x_train)"
   ]
  },
  {
   "cell_type": "code",
   "execution_count": 79,
   "metadata": {
    "colab": {
     "base_uri": "https://localhost:8080/"
    },
    "id": "IpRUNREvNKR_",
    "outputId": "b9198d06-fc9a-4ed3-ad02-e04a89ea9caa"
   },
   "outputs": [
    {
     "data": {
      "text/plain": [
       "(13032, 3)"
      ]
     },
     "execution_count": 79,
     "metadata": {},
     "output_type": "execute_result"
    }
   ],
   "source": [
    "x_train.shape"
   ]
  },
  {
   "cell_type": "code",
   "execution_count": 80,
   "metadata": {
    "colab": {
     "base_uri": "https://localhost:8080/"
    },
    "id": "T7lPx4TJNL4O",
    "outputId": "8b452b74-7389-4773-a94e-70531d7458a1"
   },
   "outputs": [
    {
     "data": {
      "text/plain": [
       "(13032, 83)"
      ]
     },
     "execution_count": 80,
     "metadata": {},
     "output_type": "execute_result"
    }
   ],
   "source": [
    "x_polly.shape"
   ]
  },
  {
   "cell_type": "code",
   "execution_count": 81,
   "metadata": {
    "id": "fYsaXxw_NNC_"
   },
   "outputs": [],
   "source": [
    "from sklearn.pipeline import Pipeline\n",
    "Input=[('scale',StandardScaler()), ('polynomial', PolynomialFeatures(degree=poli_degree)), ('model',LinearRegression())]"
   ]
  },
  {
   "cell_type": "code",
   "execution_count": 82,
   "metadata": {
    "colab": {
     "base_uri": "https://localhost:8080/"
    },
    "id": "wZ4AU194NPeo",
    "outputId": "fe4613e8-debd-4782-f515-8ca2404754d6"
   },
   "outputs": [
    {
     "data": {
      "text/plain": [
       "Pipeline(memory=None,\n",
       "         steps=[('scale',\n",
       "                 StandardScaler(copy=True, with_mean=True, with_std=True)),\n",
       "                ('polynomial',\n",
       "                 PolynomialFeatures(degree=6, include_bias=True,\n",
       "                                    interaction_only=False, order='C')),\n",
       "                ('model',\n",
       "                 LinearRegression(copy_X=True, fit_intercept=True, n_jobs=None,\n",
       "                                  normalize=False))],\n",
       "         verbose=False)"
      ]
     },
     "execution_count": 82,
     "metadata": {},
     "output_type": "execute_result"
    }
   ],
   "source": [
    "Pipe=Pipeline(Input)\n",
    "Pipe"
   ]
  },
  {
   "cell_type": "code",
   "execution_count": 83,
   "metadata": {
    "colab": {
     "base_uri": "https://localhost:8080/"
    },
    "id": "H-EFAVrMNRCi",
    "outputId": "9eedee26-5ea5-4001-f983-14d96e836105"
   },
   "outputs": [
    {
     "data": {
      "text/plain": [
       "Pipeline(memory=None,\n",
       "         steps=[('scale',\n",
       "                 StandardScaler(copy=True, with_mean=True, with_std=True)),\n",
       "                ('polynomial',\n",
       "                 PolynomialFeatures(degree=6, include_bias=True,\n",
       "                                    interaction_only=False, order='C')),\n",
       "                ('model',\n",
       "                 LinearRegression(copy_X=True, fit_intercept=True, n_jobs=None,\n",
       "                                  normalize=False))],\n",
       "         verbose=False)"
      ]
     },
     "execution_count": 83,
     "metadata": {},
     "output_type": "execute_result"
    }
   ],
   "source": [
    "Pipe.fit(x_train,y_train)"
   ]
  },
  {
   "cell_type": "code",
   "execution_count": 84,
   "metadata": {
    "colab": {
     "base_uri": "https://localhost:8080/"
    },
    "id": "OXDdGK9zNSUw",
    "outputId": "a4203829-a110-4472-9158-447b5cd9b5de"
   },
   "outputs": [
    {
     "data": {
      "text/plain": [
       "array([1.66825224, 1.13353626, 0.38895969, 0.16130862])"
      ]
     },
     "execution_count": 84,
     "metadata": {},
     "output_type": "execute_result"
    }
   ],
   "source": [
    "ypipe=Pipe.predict(x_test)\n",
    "ypipe[0:4]"
   ]
  },
  {
   "cell_type": "code",
   "execution_count": 85,
   "metadata": {
    "colab": {
     "base_uri": "https://localhost:8080/",
     "height": 710
    },
    "id": "MNOVvKFeF2nm",
    "outputId": "9b1316ca-7889-4f57-be53-51dd5d39dd02"
   },
   "outputs": [
    {
     "data": {
      "image/png": "[encoded data removed]",
      "text/plain": [
       "<Figure size 864x720 with 1 Axes>"
      ]
     },
     "metadata": {
      "needs_background": "light"
     },
     "output_type": "display_data"
    }
   ],
   "source": [
    "import matplotlib.pyplot as plt\n",
    "%matplotlib inline\n",
    "import seaborn as sns\n",
    "Title = 'Distribution  Plot of  Predicted Value Using Test Data vs Test Data Distribution'\n",
    "RedName = \"Predicted Values(Test)\"\n",
    "BlueName = \"Actual Values(Test)\"\n",
    "width = 12\n",
    "height = 10\n",
    "plt.figure(figsize=(width, height))\n",
    "\n",
    "ax1 = sns.distplot(ypipe, hist=False, color=\"r\", label=RedName)\n",
    "ax2 = sns.distplot(y_test, hist=False, color=\"b\", label=BlueName, ax=ax1)\n",
    "\n",
    "plt.title(Title)\n",
    "\n",
    "plt.show()\n",
    "plt.close()"
   ]
  },
  {
   "cell_type": "markdown",
   "metadata": {
    "id": "W1QZnV3CQkXI"
   },
   "source": [
    "#### Perhitungan Mean Squared Error"
   ]
  },
  {
   "cell_type": "code",
   "execution_count": 86,
   "metadata": {
    "colab": {
     "base_uri": "https://localhost:8080/"
    },
    "id": "DBTNdD8HQqwb",
    "outputId": "fa6aa691-1b62-4ca9-e069-8517f32bc7dc"
   },
   "outputs": [
    {
     "data": {
      "text/plain": [
       "1.8892770487423118"
      ]
     },
     "execution_count": 86,
     "metadata": {},
     "output_type": "execute_result"
    }
   ],
   "source": [
    "mean_squared_error(ypipe,y_test)"
   ]
  },
  {
   "cell_type": "markdown",
   "metadata": {
    "id": "A_bE-pkKqcMf"
   },
   "source": [
    "### Eksperimen Ridge Regression"
   ]
  },
  {
   "cell_type": "markdown",
   "metadata": {
    "id": "XZbZQIZ153__"
   },
   "source": [
    "Pada bagian ini, akan dijelaskan bagaimana parameter Alfa mengubah model."
   ]
  },
  {
   "cell_type": "code",
   "execution_count": 87,
   "metadata": {
    "id": "ITzaueGXs1nk"
   },
   "outputs": [],
   "source": [
    "from sklearn.preprocessing import PolynomialFeatures\n",
    "poli_degree = 6\n",
    "# Menggunakan pendekatan polinomial\n",
    "pr = PolynomialFeatures(degree=poli_degree)\n",
    "x_train_pr=pr.fit_transform(x_train)\n",
    "x_test_pr=pr.fit_transform(x_test)\n"
   ]
  },
  {
   "cell_type": "code",
   "execution_count": 88,
   "metadata": {
    "colab": {
     "base_uri": "https://localhost:8080/"
    },
    "id": "gTgE3YW2vY3z",
    "outputId": "a7ae77b9-c622-4bc8-83af-a93c4d263a33"
   },
   "outputs": [
    {
     "name": "stderr",
     "output_type": "stream",
     "text": [
      "C:\\ProgramData\\Anaconda3\\lib\\site-packages\\sklearn\\linear_model\\ridge.py:147: LinAlgWarning: Ill-conditioned matrix (rcond=1.31686e-35): result may not be accurate.\n",
      "  overwrite_a=True).T\n"
     ]
    }
   ],
   "source": [
    "from sklearn.linear_model import Ridge \n",
    "\n",
    "#membuat object regression Ridge, dengan alpha = 0.1\n",
    "RigeModel=Ridge(alpha=0.9)\n",
    "RigeModel.fit(x_train_pr, y_train)\n",
    "yhat = RigeModel.predict(x_test_pr)"
   ]
  },
  {
   "cell_type": "code",
   "execution_count": 89,
   "metadata": {
    "colab": {
     "base_uri": "https://localhost:8080/"
    },
    "id": "bRNAe6YT0rKN",
    "outputId": "ffa55eb4-eae5-4bfc-bb5f-e93db9aaf691"
   },
   "outputs": [
    {
     "name": "stdout",
     "output_type": "stream",
     "text": [
      "predicted: [1.65500498 1.1365804  0.38921782 0.16471438]\n",
      "test set : [0.14 0.3  0.23 0.1 ]\n"
     ]
    }
   ],
   "source": [
    "print('predicted:', yhat[0:4])\n",
    "print('test set :', y_test[0:4].values)"
   ]
  },
  {
   "cell_type": "code",
   "execution_count": 90,
   "metadata": {
    "colab": {
     "base_uri": "https://localhost:8080/",
     "height": 710
    },
    "id": "77KwJKJxGLBZ",
    "outputId": "37273663-1c1b-47fa-cf11-7f96f1d45921"
   },
   "outputs": [
    {
     "data": {
      "image/png": "[encoded data removed]",
      "text/plain": [
       "<Figure size 864x720 with 1 Axes>"
      ]
     },
     "metadata": {
      "needs_background": "light"
     },
     "output_type": "display_data"
    }
   ],
   "source": [
    "import matplotlib.pyplot as plt\n",
    "%matplotlib inline\n",
    "import seaborn as sns\n",
    "Title = 'Distribution  Plot of  Predicted Value Using Test Data vs Test Data Distribution'\n",
    "RedName = \"Predicted Values(Test)\"\n",
    "BlueName = \"Actual Values(Test)\"\n",
    "width = 12\n",
    "height = 10\n",
    "plt.figure(figsize=(width, height))\n",
    "\n",
    "ax1 = sns.distplot(yhat, hist=False, color=\"r\", label=RedName)\n",
    "ax2 = sns.distplot(y_test, hist=False, color=\"b\", label=BlueName, ax=ax1)\n",
    "\n",
    "plt.title(Title)\n",
    "\n",
    "plt.show()\n",
    "plt.close()"
   ]
  },
  {
   "cell_type": "markdown",
   "metadata": {
    "id": "YaIU0f2HQ6fF"
   },
   "source": [
    "#### Perhitungan Mean Squared Error"
   ]
  },
  {
   "cell_type": "code",
   "execution_count": 91,
   "metadata": {
    "colab": {
     "base_uri": "https://localhost:8080/"
    },
    "id": "ZSGnVEsJCShS",
    "outputId": "98b68503-dee5-485d-f9c3-775e934a568b"
   },
   "outputs": [
    {
     "data": {
      "text/plain": [
       "1.8884762549311862"
      ]
     },
     "execution_count": 91,
     "metadata": {},
     "output_type": "execute_result"
    }
   ],
   "source": [
    "mean_squared_error(yhat,y_test)"
   ]
  },
  {
   "cell_type": "markdown",
   "metadata": {
    "id": "SJX8_h-tR0DI"
   },
   "source": [
    "### Hasil Eksperimen"
   ]
  },
  {
   "cell_type": "markdown",
   "metadata": {
    "id": "Q57dPPJjR-kt"
   },
   "source": [
    "Dari hasil eksperimen, didapatkan hasil MSE untuk setiap metode :\n",
    "\n",
    "Multiple Linear Regression : 1.9735\n",
    "\n",
    "Pipeline + Polinomial : 1.8892\n",
    "\n",
    "Ridge Regression : 1.8884\n",
    "\n",
    "Nilai Mean Squared Error paling minimum adalah menggunakan metode Ridge Regression, sehingga model yang akan digunakan adalah model dari Ridge Regression dengan derajat polinomial = 6 dan alpha = 0.9"
   ]
  },
  {
   "cell_type": "markdown",
   "metadata": {},
   "source": [
    "## Menyimpan Model yang Dipilih"
   ]
  },
  {
   "cell_type": "code",
   "execution_count": 94,
   "metadata": {},
   "outputs": [
    {
     "name": "stderr",
     "output_type": "stream",
     "text": [
      "C:\\ProgramData\\Anaconda3\\lib\\site-packages\\sklearn\\externals\\joblib\\__init__.py:15: DeprecationWarning: sklearn.externals.joblib is deprecated in 0.21 and will be removed in 0.23. Please import this functionality directly from joblib, which can be installed with: pip install joblib. If this warning is raised when loading pickled models, you may need to re-serialize those models with scikit-learn 0.21+.\n",
      "  warnings.warn(msg, category=DeprecationWarning)\n"
     ]
    },
    {
     "data": {
      "text/plain": [
       "['model.pkl']"
      ]
     },
     "execution_count": 94,
     "metadata": {},
     "output_type": "execute_result"
    }
   ],
   "source": [
    "import pickle\n",
    "from sklearn.externals import joblib\n",
    "\n",
    "joblib.dump(RigeModel,\"model.pkl\")"
   ]
  },
  {
   "cell_type": "markdown",
   "metadata": {},
   "source": [
    "## Export Dataset"
   ]
  },
  {
   "cell_type": "code",
   "execution_count": 98,
   "metadata": {},
   "outputs": [],
   "source": [
    "export_data = vgs_data[['Platform','Genre','Publisher','Global_Sales']]\n",
    "export_data.to_excel(\"output.xlsx\")"
   ]
  }
 ],
 "metadata": {
  "colab": {
   "collapsed_sections": [
    "68xyvtO6ZYsD",
    "O5qaAh4sjE6X",
    "eZ2Kk9tFgb5x"
   ],
   "name": "video-games-sales.ipynb",
   "provenance": [],
   "toc_visible": true
  },
  "kernelspec": {
   "display_name": "Python 3",
   "language": "python",
   "name": "python3"
  },
  "language_info": {
   "codemirror_mode": {
    "name": "ipython",
    "version": 3
   },
   "file_extension": ".py",
   "mimetype": "text/x-python",
   "name": "python",
   "nbconvert_exporter": "python",
   "pygments_lexer": "ipython3",
   "version": "3.7.4"
  }
 },
 "nbformat": 4,
 "nbformat_minor": 1
}
